{
  "cells": [
    {
      "cell_type": "markdown",
      "metadata": {
        "id": "qLtMhggTxbJm"
      },
      "source": [
        "# Assignment 1\n",
        "The objective of this assignment is to enhance your proficiency with the NumPy library by engaging in a series of tasks encompassing diverse operations, statistical analyses, and indexing/slicing procedures. Through the completion of these tasks, you are expected to reinforce your understanding of NumPy functionalities and sharpen your skills in leveraging the library for effective data manipulation.\n",
        "\n",
        "**Instructions:**\n",
        "  - Do not remove comments such as # Task 1.1,# Task 1.2 etc. Provide your answers bellow these comments.\n",
        "  - Use the provided variable names for your answers.\n",
        "  - If the question is related to numpy operations, you are not allowed to use for loops.\n"
      ]
    },
    {
      "cell_type": "markdown",
      "metadata": {
        "id": "Wu1flBgqpsRT"
      },
      "source": [
        "**Task 1: Basic NumPy Operations (10 points)**\n",
        "1. Create a NumPy array with the values `[1, 2, 3, 4, 5]`. Name this array `arr1`. (1pt)\n",
        "2. Create another NumPy array with the values `[6, 7, 8, 9, 10]`. Name this array `arr2`. (1pt)\n",
        "3. Perform element-wise addition, subtraction, multiplication, and division on `arr1` and `arr2`. Store the results in new arrays. (8pts)"
      ]
    },
    {
      "cell_type": "code",
      "execution_count": 1,
      "metadata": {
        "id": "psrvrklEyjo3"
      },
      "outputs": [],
      "source": [
        "import numpy as np\n",
        "\n",
        "# Task 1.1\n",
        "arr1 = np.array([1, 2, 3, 4, 5])\n",
        "\n",
        "# Task 1.2\n",
        "arr2 = np.array([6, 7, 8, 9, 10])\n",
        "\n",
        "# Task 1.3\n",
        "addition_result = arr1 + arr2\n",
        "subtraction_result = arr1 - arr2\n",
        "multiplication_result = arr1 * arr2\n",
        "division_result = arr1 / arr2"
      ]
    },
    {
      "cell_type": "markdown",
      "metadata": {
        "id": "RZ6S7VmdpxT8"
      },
      "source": [
        "**Task 2: Statistical Analysis (20 points)**\n",
        "1. Create a random NumPy array with 100 elements sampled from a normal distribution with mean 50 and standard deviation 10. Name this array `data`. (5pts)\n",
        "2. Calculate and print the mean, median, and standard deviation of the `data` array. (5pts)\n",
        "3. Reshape the `data` array into a 10x10 matrix. (5pts)\n",
        "4. Find the minimum and maximum values in each row and each column of the reshaped matrix. (5pts)"
      ]
    },
    {
      "cell_type": "code",
      "execution_count": 2,
      "metadata": {
        "id": "R7Txox0NpzVI"
      },
      "outputs": [],
      "source": [
        "# Task 2.1\n",
        "data = np.random.normal(50, 10, 100)\n",
        "\n",
        "# Task 2.2\n",
        "mean_value = np.mean(data)\n",
        "median_value = np.median(data)\n",
        "std_deviation =np.std(data)\n",
        "\n",
        "# Task 2.3\n",
        "reshaped_data = np.reshape(data, (10,10))\n",
        "\n",
        "# Task 2.4\n",
        "min_values_by_row = np.min(reshaped_data, axis=1)\n",
        "max_values_by_row = np.max(reshaped_data, axis=1)\n",
        "min_values_by_col = np.min(reshaped_data, axis=0)\n",
        "max_values_by_col = np.max(reshaped_data, axis=0)\n",
        "\n",
        "\n",
        "\n"
      ]
    },
    {
      "cell_type": "markdown",
      "metadata": {
        "id": "9q50uZ0np47n"
      },
      "source": [
        "**Task 3: NumPy Indexing and Slicing (35 points)**\n",
        "1. Create a NumPy array with values `[1, 2, 3, 4, 5, 6, 7, 8, 9, 10]`. Name this array `arr3`. (1pt)\n",
        "2. Print the even elements of `arr3`. (10pts)\n",
        "3. Print the elements greater than 5 in `arr3`. (10pts)\n",
        "4. Reshape `arr3` into a 2x5 matrix. (4pts)\n",
        "5. Extract the second column of the reshaped matrix. (10pts)"
      ]
    },
    {
      "cell_type": "code",
      "execution_count": 6,
      "metadata": {
        "id": "lKA8OVeyqeK3"
      },
      "outputs": [],
      "source": [
        "# Task 3.1\n",
        "arr3 = np.array([1, 2, 3, 4, 5, 6, 7, 8, 9, 10])\n",
        "even_elems = arr3[arr3 % 2 == 0]\n",
        "\n",
        "# Task 3.2\n",
        "elements_greater_than_5 = arr3[arr3 > 5]\n",
        "\n",
        "# Task 3.3\n",
        "reshaped_arr3 = np.reshape(arr3, (2, 5))\n",
        "\n",
        "# Task 3.4\n",
        "second_column = reshaped_arr3[0:3, 1]\n"
      ]
    },
    {
      "cell_type": "markdown",
      "metadata": {
        "id": "irpaKaVoU2io"
      },
      "source": [
        " **Task 4: Axis Operations: (35pts)**\n",
        "    \n",
        "1. Create a 2D NumPy array with shape (4, 5) containing random integers. (5pts)\n",
        "2. Calculate the sum of each column and find the column index with the maximum sum. (10pts)\n",
        "3. Calculate the mean of each row and find the row index with the minimum mean. (10pts)\n",
        "4. Normalize the values of each column by subtracting the mean and dividing by the standard deviation of the column. (10pts)"
      ]
    },
    {
      "cell_type": "code",
      "execution_count": 5,
      "metadata": {
        "id": "0u_oxn37U4CB"
      },
      "outputs": [
        {
          "name": "stdout",
          "output_type": "stream",
          "text": [
            "[[ 9 10  1  9  8]\n",
            " [ 0  7  8  3 10]\n",
            " [ 7  9  3  8  5]\n",
            " [ 9  5  7  5  8]]\n"
          ]
        },
        {
          "name": "stderr",
          "output_type": "stream",
          "text": [
            "C:\\Users\\yugpa\\AppData\\Local\\Temp\\ipykernel_39464\\2075728383.py:3: DeprecationWarning: This function is deprecated. Please call randint(0, 10 + 1) instead\n",
            "  array_2d = np.random.random_integers(0, 10, size=(4, 5))\n"
          ]
        },
        {
          "ename": "AttributeError",
          "evalue": "module 'numpy' has no attribute 'array_2d'",
          "output_type": "error",
          "traceback": [
            "\u001b[1;31m---------------------------------------------------------------------------\u001b[0m",
            "\u001b[1;31mAttributeError\u001b[0m                            Traceback (most recent call last)",
            "Cell \u001b[1;32mIn[5], line 7\u001b[0m\n\u001b[0;32m      5\u001b[0m \u001b[38;5;66;03m# Task 4.2\u001b[39;00m\n\u001b[0;32m      6\u001b[0m column_sums \u001b[38;5;241m=\u001b[39m array_2d\u001b[38;5;241m.\u001b[39msum(axis\u001b[38;5;241m=\u001b[39m\u001b[38;5;241m0\u001b[39m)\n\u001b[1;32m----> 7\u001b[0m max_sum_column_index \u001b[38;5;241m=\u001b[39m \u001b[43mnp\u001b[49m\u001b[38;5;241;43m.\u001b[39;49m\u001b[43m \u001b[49m\u001b[43marray_2d\u001b[49m\u001b[38;5;241m.\u001b[39msum(axis\u001b[38;5;241m=\u001b[39m\u001b[38;5;241m0\u001b[39m)\n\u001b[0;32m      9\u001b[0m \u001b[38;5;28mprint\u001b[39m(column_sums)\n\u001b[0;32m     10\u001b[0m \u001b[38;5;28mprint\u001b[39m(max_sum_column_index)\n",
            "File \u001b[1;32m~\\AppData\\Local\\Packages\\PythonSoftwareFoundation.Python.3.9_qbz5n2kfra8p0\\LocalCache\\local-packages\\Python39\\site-packages\\numpy\\__init__.py:311\u001b[0m, in \u001b[0;36m__getattr__\u001b[1;34m(attr)\u001b[0m\n\u001b[0;32m    308\u001b[0m     \u001b[38;5;28;01mfrom\u001b[39;00m \u001b[38;5;21;01m.\u001b[39;00m\u001b[38;5;21;01mtesting\u001b[39;00m \u001b[38;5;28;01mimport\u001b[39;00m Tester\n\u001b[0;32m    309\u001b[0m     \u001b[38;5;28;01mreturn\u001b[39;00m Tester\n\u001b[1;32m--> 311\u001b[0m \u001b[38;5;28;01mraise\u001b[39;00m \u001b[38;5;167;01mAttributeError\u001b[39;00m(\u001b[38;5;124m\"\u001b[39m\u001b[38;5;124mmodule \u001b[39m\u001b[38;5;132;01m{!r}\u001b[39;00m\u001b[38;5;124m has no attribute \u001b[39m\u001b[38;5;124m\"\u001b[39m\n\u001b[0;32m    312\u001b[0m                      \u001b[38;5;124m\"\u001b[39m\u001b[38;5;132;01m{!r}\u001b[39;00m\u001b[38;5;124m\"\u001b[39m\u001b[38;5;241m.\u001b[39mformat(\u001b[38;5;18m__name__\u001b[39m, attr))\n",
            "\u001b[1;31mAttributeError\u001b[0m: module 'numpy' has no attribute 'array_2d'"
          ]
        }
      ],
      "source": [
        "# Task 4.1 \n",
        "array_2d = np.random.random_integers(0, 10, size=(4, 5))\n",
        "print(array_2d)\n",
        "# Task 4.2\n",
        "column_sums = array_2d.sum(axis=0)\n",
        "max_sum_column_index =  array_2d.sum(axis=0)\n",
        "\n",
        "print(column_sums)\n",
        "print(max_sum_column_index)\n",
        "\n",
        "# Task 4.3\n",
        "row_means = 1\n",
        "min_mean_row_index = 1\n",
        "\n",
        "# Task 4.4\n",
        "normalized_array = 1"
      ]
    }
  ],
  "metadata": {
    "colab": {
      "provenance": []
    },
    "kernelspec": {
      "display_name": "Python 3",
      "name": "python3"
    },
    "language_info": {
      "codemirror_mode": {
        "name": "ipython",
        "version": 3
      },
      "file_extension": ".py",
      "mimetype": "text/x-python",
      "name": "python",
      "nbconvert_exporter": "python",
      "pygments_lexer": "ipython3",
      "version": "3.9.13"
    }
  },
  "nbformat": 4,
  "nbformat_minor": 0
}
