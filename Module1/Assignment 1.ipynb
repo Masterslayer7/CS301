{
  "cells": [
    {
      "cell_type": "markdown",
      "metadata": {
        "id": "qLtMhggTxbJm"
      },
      "source": [
        "# Assignment 1\n",
        "The objective of this assignment is to enhance your proficiency with the NumPy library by engaging in a series of tasks encompassing diverse operations, statistical analyses, and indexing/slicing procedures. Through the completion of these tasks, you are expected to reinforce your understanding of NumPy functionalities and sharpen your skills in leveraging the library for effective data manipulation.\n",
        "\n",
        "**Instructions:**\n",
        "  - Do not remove comments such as # Task 1.1,# Task 1.2 etc. Provide your answers bellow these comments.\n",
        "  - Use the provided variable names for your answers.\n",
        "  - If the question is related to numpy operations, you are not allowed to use for loops.\n"
      ]
    },
    {
      "cell_type": "markdown",
      "metadata": {
        "id": "Wu1flBgqpsRT"
      },
      "source": [
        "**Task 1: Basic NumPy Operations (10 points)**\n",
        "1. Create a NumPy array with the values `[1, 2, 3, 4, 5]`. Name this array `arr1`. (1pt)\n",
        "2. Create another NumPy array with the values `[6, 7, 8, 9, 10]`. Name this array `arr2`. (1pt)\n",
        "3. Perform element-wise addition, subtraction, multiplication, and division on `arr1` and `arr2`. Store the results in new arrays. (8pts)"
      ]
    },
    {
      "cell_type": "code",
      "execution_count": 1,
      "metadata": {
        "id": "psrvrklEyjo3"
      },
      "outputs": [],
      "source": [
        "import numpy as np\n",
        "\n",
        "# Task 1.1\n",
        "arr1 = np.array([1, 2, 3, 4, 5])\n",
        "\n",
        "# Task 1.2\n",
        "arr2 = np.array([6, 7, 8, 9, 10])\n",
        "\n",
        "# Task 1.3\n",
        "addition_result = arr1 + arr2\n",
        "subtraction_result = arr1 - arr2\n",
        "multiplication_result = arr1 * arr2\n",
        "division_result = arr1 / arr2"
      ]
    },
    {
      "cell_type": "markdown",
      "metadata": {
        "id": "RZ6S7VmdpxT8"
      },
      "source": [
        "**Task 2: Statistical Analysis (20 points)**\n",
        "1. Create a random NumPy array with 100 elements sampled from a normal distribution with mean 50 and standard deviation 10. Name this array `data`. (5pts)\n",
        "2. Calculate and print the mean, median, and standard deviation of the `data` array. (5pts)\n",
        "3. Reshape the `data` array into a 10x10 matrix. (5pts)\n",
        "4. Find the minimum and maximum values in each row and each column of the reshaped matrix. (5pts)"
      ]
    },
    {
      "cell_type": "code",
      "execution_count": 2,
      "metadata": {
        "id": "R7Txox0NpzVI"
      },
      "outputs": [],
      "source": [
        "# Task 2.1\n",
        "data = np.random.normal(50, 10, 100)\n",
        "\n",
        "# Task 2.2\n",
        "mean_value = np.mean(data)\n",
        "median_value = np.median(data)\n",
        "std_deviation =np.std(data)\n",
        "\n",
        "# Task 2.3\n",
        "reshaped_data = np.reshape(data, (10,10))\n",
        "\n",
        "# Task 2.4\n",
        "min_values_by_row = np.min(reshaped_data, axis=1)\n",
        "max_values_by_row = np.max(reshaped_data, axis=1)\n",
        "min_values_by_col = np.min(reshaped_data, axis=0)\n",
        "max_values_by_col = np.max(reshaped_data, axis=0)\n",
        "\n",
        "\n",
        "\n"
      ]
    },
    {
      "cell_type": "markdown",
      "metadata": {
        "id": "9q50uZ0np47n"
      },
      "source": [
        "**Task 3: NumPy Indexing and Slicing (35 points)**\n",
        "1. Create a NumPy array with values `[1, 2, 3, 4, 5, 6, 7, 8, 9, 10]`. Name this array `arr3`. (1pt)\n",
        "2. Print the even elements of `arr3`. (10pts)\n",
        "3. Print the elements greater than 5 in `arr3`. (10pts)\n",
        "4. Reshape `arr3` into a 2x5 matrix. (4pts)\n",
        "5. Extract the second column of the reshaped matrix. (10pts)"
      ]
    },
    {
      "cell_type": "code",
      "execution_count": 3,
      "metadata": {
        "id": "lKA8OVeyqeK3"
      },
      "outputs": [],
      "source": [
        "# Task 3.1\n",
        "arr3 = np.array([1, 2, 3, 4, 5, 6, 7, 8, 9, 10])\n",
        "even_elems = arr3[arr3 % 2 == 0]\n",
        "\n",
        "# Task 3.2\n",
        "elements_greater_than_5 = arr3[arr3 > 5]\n",
        "\n",
        "# Task 3.3\n",
        "reshaped_arr3 = np.reshape(arr3, (2, 5))\n",
        "\n",
        "# Task 3.4\n",
        "second_column = reshaped_arr3[0:3, 1]\n"
      ]
    },
    {
      "cell_type": "markdown",
      "metadata": {
        "id": "irpaKaVoU2io"
      },
      "source": [
        " **Task 4: Axis Operations: (35pts)**\n",
        "    \n",
        "1. Create a 2D NumPy array with shape (4, 5) containing random integers. (5pts)\n",
        "2. Calculate the sum of each column and find the column index with the maximum sum. (10pts)\n",
        "3. Calculate the mean of each row and find the row index with the minimum mean. (10pts)\n",
        "4. Normalize the values of each column by subtracting the mean and dividing by the standard deviation of the column. (10pts)"
      ]
    },
    {
      "cell_type": "code",
      "execution_count": 4,
      "metadata": {
        "id": "0u_oxn37U4CB"
      },
      "outputs": [
        {
          "name": "stdout",
          "output_type": "stream",
          "text": [
            "[[ 3  1  7  5  1]\n",
            " [ 9  3 10  1  2]\n",
            " [ 6  9  9  2  9]\n",
            " [ 8  5  7  7  0]]\n",
            "[26 18 33 15 12]\n",
            "[26 18 33 15 12]\n"
          ]
        },
        {
          "name": "stderr",
          "output_type": "stream",
          "text": [
            "C:\\Users\\yugpa\\AppData\\Local\\Temp\\ipykernel_17732\\840634757.py:2: DeprecationWarning: This function is deprecated. Please call randint(0, 10 + 1) instead\n",
            "  array_2d = np.random.random_integers(0, 10, size=(4, 5))\n"
          ]
        }
      ],
      "source": [
        "# Task 4.1 \n",
        "array_2d = np.random.random_integers(0, 10, size=(4, 5))\n",
        "print(array_2d)\n",
        "# Task 4.2\n",
        "column_sums = array_2d.sum(axis=0)\n",
        "max_sum_column_index = np.argmax(array_2d.sum(axis=0))\n",
        "\n",
        "print(column_sums)\n",
        "print(max_sum_column_index)\n",
        "\n",
        "# Task 4.3\n",
        "row_means = 1\n",
        "min_mean_row_index = 1\n",
        "\n",
        "# Task 4.4\n",
        "normalized_array = 1"
      ]
    }
  ],
  "metadata": {
    "colab": {
      "provenance": []
    },
    "kernelspec": {
      "display_name": "Python 3",
      "name": "python3"
    },
    "language_info": {
      "codemirror_mode": {
        "name": "ipython",
        "version": 3
      },
      "file_extension": ".py",
      "mimetype": "text/x-python",
      "name": "python",
      "nbconvert_exporter": "python",
      "pygments_lexer": "ipython3",
      "version": "3.9.13"
    }
  },
  "nbformat": 4,
  "nbformat_minor": 0
}
