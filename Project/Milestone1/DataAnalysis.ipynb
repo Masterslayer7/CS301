{
 "cells": [
  {
   "cell_type": "markdown",
   "metadata": {},
   "source": []
  },
  {
   "cell_type": "code",
   "execution_count": 22,
   "metadata": {},
   "outputs": [
    {
     "data": {
      "text/html": [
       "<div>\n",
       "<style scoped>\n",
       "    .dataframe tbody tr th:only-of-type {\n",
       "        vertical-align: middle;\n",
       "    }\n",
       "\n",
       "    .dataframe tbody tr th {\n",
       "        vertical-align: top;\n",
       "    }\n",
       "\n",
       "    .dataframe thead th {\n",
       "        text-align: right;\n",
       "    }\n",
       "</style>\n",
       "<table border=\"1\" class=\"dataframe\">\n",
       "  <thead>\n",
       "    <tr style=\"text-align: right;\">\n",
       "      <th></th>\n",
       "      <th>name</th>\n",
       "      <th>orbiting_body</th>\n",
       "    </tr>\n",
       "  </thead>\n",
       "  <tbody>\n",
       "    <tr>\n",
       "      <th>count</th>\n",
       "      <td>99</td>\n",
       "      <td>99</td>\n",
       "    </tr>\n",
       "    <tr>\n",
       "      <th>unique</th>\n",
       "      <td>99</td>\n",
       "      <td>1</td>\n",
       "    </tr>\n",
       "    <tr>\n",
       "      <th>top</th>\n",
       "      <td>162117 (1998 SD15)</td>\n",
       "      <td>Earth</td>\n",
       "    </tr>\n",
       "    <tr>\n",
       "      <th>freq</th>\n",
       "      <td>1</td>\n",
       "      <td>99</td>\n",
       "    </tr>\n",
       "  </tbody>\n",
       "</table>\n",
       "</div>"
      ],
      "text/plain": [
       "                      name orbiting_body\n",
       "count                   99            99\n",
       "unique                  99             1\n",
       "top     162117 (1998 SD15)         Earth\n",
       "freq                     1            99"
      ]
     },
     "metadata": {},
     "output_type": "display_data"
    },
    {
     "data": {
      "text/html": [
       "<div>\n",
       "<style scoped>\n",
       "    .dataframe tbody tr th:only-of-type {\n",
       "        vertical-align: middle;\n",
       "    }\n",
       "\n",
       "    .dataframe tbody tr th {\n",
       "        vertical-align: top;\n",
       "    }\n",
       "\n",
       "    .dataframe thead th {\n",
       "        text-align: right;\n",
       "    }\n",
       "</style>\n",
       "<table border=\"1\" class=\"dataframe\">\n",
       "  <thead>\n",
       "    <tr style=\"text-align: right;\">\n",
       "      <th></th>\n",
       "      <th>neo_id</th>\n",
       "      <th>absolute_magnitude</th>\n",
       "      <th>estimated_diameter_min</th>\n",
       "      <th>estimated_diameter_max</th>\n",
       "      <th>relative_velocity</th>\n",
       "      <th>miss_distance</th>\n",
       "    </tr>\n",
       "  </thead>\n",
       "  <tbody>\n",
       "    <tr>\n",
       "      <th>count</th>\n",
       "      <td>9.900000e+01</td>\n",
       "      <td>99.000000</td>\n",
       "      <td>99.000000</td>\n",
       "      <td>99.000000</td>\n",
       "      <td>99.000000</td>\n",
       "      <td>9.900000e+01</td>\n",
       "    </tr>\n",
       "    <tr>\n",
       "      <th>mean</th>\n",
       "      <td>9.426960e+06</td>\n",
       "      <td>21.916566</td>\n",
       "      <td>0.201217</td>\n",
       "      <td>0.449934</td>\n",
       "      <td>49141.959384</td>\n",
       "      <td>4.462200e+07</td>\n",
       "    </tr>\n",
       "    <tr>\n",
       "      <th>std</th>\n",
       "      <td>1.674350e+07</td>\n",
       "      <td>2.616120</td>\n",
       "      <td>0.233156</td>\n",
       "      <td>0.521354</td>\n",
       "      <td>26043.058878</td>\n",
       "      <td>2.024564e+07</td>\n",
       "    </tr>\n",
       "    <tr>\n",
       "      <th>min</th>\n",
       "      <td>2.020790e+06</td>\n",
       "      <td>16.640000</td>\n",
       "      <td>0.002315</td>\n",
       "      <td>0.005177</td>\n",
       "      <td>11063.499002</td>\n",
       "      <td>5.657727e+06</td>\n",
       "    </tr>\n",
       "    <tr>\n",
       "      <th>25%</th>\n",
       "      <td>2.616534e+06</td>\n",
       "      <td>20.120000</td>\n",
       "      <td>0.051655</td>\n",
       "      <td>0.115504</td>\n",
       "      <td>29608.477157</td>\n",
       "      <td>2.823931e+07</td>\n",
       "    </tr>\n",
       "    <tr>\n",
       "      <th>50%</th>\n",
       "      <td>3.621023e+06</td>\n",
       "      <td>21.720000</td>\n",
       "      <td>0.120380</td>\n",
       "      <td>0.269178</td>\n",
       "      <td>42003.187679</td>\n",
       "      <td>4.548310e+07</td>\n",
       "    </tr>\n",
       "    <tr>\n",
       "      <th>75%</th>\n",
       "      <td>3.837361e+06</td>\n",
       "      <td>23.560000</td>\n",
       "      <td>0.251534</td>\n",
       "      <td>0.562447</td>\n",
       "      <td>67359.941561</td>\n",
       "      <td>6.176478e+07</td>\n",
       "    </tr>\n",
       "    <tr>\n",
       "      <th>max</th>\n",
       "      <td>5.442295e+07</td>\n",
       "      <td>30.300000</td>\n",
       "      <td>1.248979</td>\n",
       "      <td>2.792801</td>\n",
       "      <td>115260.679401</td>\n",
       "      <td>7.478755e+07</td>\n",
       "    </tr>\n",
       "  </tbody>\n",
       "</table>\n",
       "</div>"
      ],
      "text/plain": [
       "             neo_id  absolute_magnitude  estimated_diameter_min  \\\n",
       "count  9.900000e+01           99.000000               99.000000   \n",
       "mean   9.426960e+06           21.916566                0.201217   \n",
       "std    1.674350e+07            2.616120                0.233156   \n",
       "min    2.020790e+06           16.640000                0.002315   \n",
       "25%    2.616534e+06           20.120000                0.051655   \n",
       "50%    3.621023e+06           21.720000                0.120380   \n",
       "75%    3.837361e+06           23.560000                0.251534   \n",
       "max    5.442295e+07           30.300000                1.248979   \n",
       "\n",
       "       estimated_diameter_max  relative_velocity  miss_distance  \n",
       "count               99.000000          99.000000   9.900000e+01  \n",
       "mean                 0.449934       49141.959384   4.462200e+07  \n",
       "std                  0.521354       26043.058878   2.024564e+07  \n",
       "min                  0.005177       11063.499002   5.657727e+06  \n",
       "25%                  0.115504       29608.477157   2.823931e+07  \n",
       "50%                  0.269178       42003.187679   4.548310e+07  \n",
       "75%                  0.562447       67359.941561   6.176478e+07  \n",
       "max                  2.792801      115260.679401   7.478755e+07  "
      ]
     },
     "metadata": {},
     "output_type": "display_data"
    }
   ],
   "source": [
    "import numpy as np\n",
    "import pandas as pd\n",
    "import matplotlib.pyplot as plt\n",
    "\n",
    "object = 'NeoDataCut100.csv'\n",
    "df = pd.read_csv(filepath_or_buffer=object)\n",
    "display(df.describe(include='object'))\n",
    "display(df.describe(include='number'))"
   ]
  },
  {
   "cell_type": "code",
   "execution_count": 17,
   "metadata": {},
   "outputs": [
    {
     "data": {
      "text/plain": [
       "<matplotlib.collections.PathCollection at 0x2593fd6a0d0>"
      ]
     },
     "execution_count": 17,
     "metadata": {},
     "output_type": "execute_result"
    },
    {
     "data": {
      "image/png": "[encoded data removed]",
      "text/plain": [
       "<Figure size 500x500 with 1 Axes>"
      ]
     },
     "metadata": {},
     "output_type": "display_data"
    }
   ],
   "source": [
    "fig, axes = plt.subplots(figsize=(5, 5))\n",
    "axes.scatter(df['absolute_magnitude'], df['relative_velocity'])"
   ]
  }
 ],
 "metadata": {
  "kernelspec": {
   "display_name": "Python 3",
   "language": "python",
   "name": "python3"
  },
  "language_info": {
   "codemirror_mode": {
    "name": "ipython",
    "version": 3
   },
   "file_extension": ".py",
   "mimetype": "text/x-python",
   "name": "python",
   "nbconvert_exporter": "python",
   "pygments_lexer": "ipython3",
   "version": "3.9.13"
  }
 },
 "nbformat": 4,
 "nbformat_minor": 2
}
