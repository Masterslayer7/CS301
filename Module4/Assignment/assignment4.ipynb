{
 "cells": [
  {
   "cell_type": "code",
   "execution_count": 16,
   "metadata": {},
   "outputs": [
    {
     "name": "stdout",
     "output_type": "stream",
     "text": [
      "[0.36038647] [[1.97041063]]\n"
     ]
    }
   ],
   "source": [
    "import pandas as pd\n",
    "from sklearn.linear_model import LinearRegression\n",
    "from sklearn.metrics import mean_absolute_error, mean_squared_error, root_mean_squared_error\n",
    "\n",
    "df = pd.read_csv('assignment_4_data.csv')\n",
    "\n",
    "#Task 1.1\n",
    "Training_set = [9, 14, 8, 7, 15, 13, 6, 3, 10, 4]\n",
    "Testing_set = [5, 12, 1, 2, 11]\n",
    "df_training =  df[df['Index'].isin(Training_set)]\n",
    "\n",
    "#Task 1.2\n",
    "model = LinearRegression()\n",
    "model.fit(df_training[['X']], df_training[['Y']])\n",
    "\n",
    "print(model.intercept_,model.coef_)\n"
   ]
  },
  {
   "cell_type": "code",
   "execution_count": 17,
   "metadata": {},
   "outputs": [
    {
     "name": "stderr",
     "output_type": "stream",
     "text": [
      "C:\\Users\\yugpa\\AppData\\Local\\Temp\\ipykernel_39508\\3061371533.py:4: SettingWithCopyWarning: \n",
      "A value is trying to be set on a copy of a slice from a DataFrame.\n",
      "Try using .loc[row_indexer,col_indexer] = value instead\n",
      "\n",
      "See the caveats in the documentation: https://pandas.pydata.org/pandas-docs/stable/user_guide/indexing.html#returning-a-view-versus-a-copy\n",
      "  df_Test['Predicted_Y'] = y_predicted\n",
      "C:\\Users\\yugpa\\AppData\\Local\\Temp\\ipykernel_39508\\3061371533.py:7: SettingWithCopyWarning: \n",
      "A value is trying to be set on a copy of a slice from a DataFrame.\n",
      "Try using .loc[row_indexer,col_indexer] = value instead\n",
      "\n",
      "See the caveats in the documentation: https://pandas.pydata.org/pandas-docs/stable/user_guide/indexing.html#returning-a-view-versus-a-copy\n",
      "  df_Test['Error'] = abs(df_Test['Y'] - df_Test['Predicted_Y'])\n"
     ]
    },
    {
     "data": {
      "text/html": [
       "<div>\n",
       "<style scoped>\n",
       "    .dataframe tbody tr th:only-of-type {\n",
       "        vertical-align: middle;\n",
       "    }\n",
       "\n",
       "    .dataframe tbody tr th {\n",
       "        vertical-align: top;\n",
       "    }\n",
       "\n",
       "    .dataframe thead th {\n",
       "        text-align: right;\n",
       "    }\n",
       "</style>\n",
       "<table border=\"1\" class=\"dataframe\">\n",
       "  <thead>\n",
       "    <tr style=\"text-align: right;\">\n",
       "      <th></th>\n",
       "      <th>Index</th>\n",
       "      <th>X</th>\n",
       "      <th>Y</th>\n",
       "      <th>Predicted_Y</th>\n",
       "      <th>Error</th>\n",
       "    </tr>\n",
       "  </thead>\n",
       "  <tbody>\n",
       "    <tr>\n",
       "      <th>0</th>\n",
       "      <td>1</td>\n",
       "      <td>5</td>\n",
       "      <td>10.2</td>\n",
       "      <td>10.212440</td>\n",
       "      <td>0.012440</td>\n",
       "    </tr>\n",
       "    <tr>\n",
       "      <th>1</th>\n",
       "      <td>2</td>\n",
       "      <td>1</td>\n",
       "      <td>2.3</td>\n",
       "      <td>2.330797</td>\n",
       "      <td>0.030797</td>\n",
       "    </tr>\n",
       "    <tr>\n",
       "      <th>4</th>\n",
       "      <td>5</td>\n",
       "      <td>3</td>\n",
       "      <td>6.5</td>\n",
       "      <td>6.271618</td>\n",
       "      <td>0.228382</td>\n",
       "    </tr>\n",
       "    <tr>\n",
       "      <th>10</th>\n",
       "      <td>11</td>\n",
       "      <td>11</td>\n",
       "      <td>22.0</td>\n",
       "      <td>22.034903</td>\n",
       "      <td>0.034903</td>\n",
       "    </tr>\n",
       "    <tr>\n",
       "      <th>11</th>\n",
       "      <td>12</td>\n",
       "      <td>12</td>\n",
       "      <td>23.9</td>\n",
       "      <td>24.005314</td>\n",
       "      <td>0.105314</td>\n",
       "    </tr>\n",
       "  </tbody>\n",
       "</table>\n",
       "</div>"
      ],
      "text/plain": [
       "    Index   X     Y  Predicted_Y     Error\n",
       "0       1   5  10.2    10.212440  0.012440\n",
       "1       2   1   2.3     2.330797  0.030797\n",
       "4       5   3   6.5     6.271618  0.228382\n",
       "10     11  11  22.0    22.034903  0.034903\n",
       "11     12  12  23.9    24.005314  0.105314"
      ]
     },
     "metadata": {},
     "output_type": "display_data"
    }
   ],
   "source": [
    "#Task 2.1\n",
    "df_Test =  df[df['Index'].isin(Testing_set)]\n",
    "y_predicted =  model.predict(df_Test[['X']])\n",
    "df_Test['Predicted_Y'] = y_predicted\n",
    "\n",
    "#Task 2.2\n",
    "df_Test['Error'] = abs(df_Test['Y'] - df_Test['Predicted_Y'])\n",
    "display(df_Test)"
   ]
  },
  {
   "cell_type": "code",
   "execution_count": 18,
   "metadata": {},
   "outputs": [
    {
     "name": "stdout",
     "output_type": "stream",
     "text": [
      "mean_absolute_error =  0.08236714975845408\n",
      "mean_squared_error =  0.01311413335200456\n",
      "root_mean_squared_error =  0.11451695661344026\n"
     ]
    }
   ],
   "source": [
    "#Task 3.1\n",
    "mae = mean_absolute_error(df_Test['Y'], y_predicted)\n",
    "mse = mean_squared_error(df_Test['Y'], y_predicted)\n",
    "rmse = root_mean_squared_error(df_Test['Y'], y_predicted)\n",
    "print(\"mean_absolute_error = \", mae)\n",
    "print(\"mean_squared_error = \", mse)\n",
    "print(\"root_mean_squared_error = \", rmse)"
   ]
  }
 ],
 "metadata": {
  "kernelspec": {
   "display_name": "Python 3",
   "language": "python",
   "name": "python3"
  },
  "language_info": {
   "codemirror_mode": {
    "name": "ipython",
    "version": 3
   },
   "file_extension": ".py",
   "mimetype": "text/x-python",
   "name": "python",
   "nbconvert_exporter": "python",
   "pygments_lexer": "ipython3",
   "version": "3.9.13"
  }
 },
 "nbformat": 4,
 "nbformat_minor": 2
}
