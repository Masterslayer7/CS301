{
  "cells": [
    {
      "cell_type": "markdown",
      "source": [
        "## Data Preprocessing\n",
        "Data preprocessing is a crucial step in the data analysis and machine learning pipeline. It involves the cleaning and transformation of raw data into a format that is suitable for analysis or input to a machine learning model. The main goals of data preprocessing are to improve the quality of the data and enhance the performance and effectiveness of machine learning models. The choice of preprocessing techniques is influenced by the nature of the data, and different algorithms are applied accordingly to address unique challenges associated with diverse data types."
      ],
      "metadata": {
        "id": "v01JF_t15h5A"
      }
    },
    {
      "cell_type": "markdown",
      "metadata": {
        "id": "aVtxQgfIMt2g"
      },
      "source": [
        "## Data Types"
      ]
    },
    {
      "cell_type": "markdown",
      "source": [
        "The columns in a Pandas DataFrame can contain different types of data. Here are some common types you might encounter:\n",
        "\n",
        "1. **Numerical Data:**\n",
        "   - **Discrete:** These are numerical data that have a countable number of distinct values. For example, the **number of cars** in a parking lot or the **number of students in a classroom**.\n",
        "   - **Continuous :** They can take any numeric value within a range and have an infinite number of possible values. Examples include **height, weight, or temperature**.\n",
        "\n",
        "2. **Categorical Data:**\n",
        "   - **Nominal:** These type of data represent categories without any inherent order or ranking. Examples include **gender, color, or types of fruits**.\n",
        "   - **Ordinal:** They have categories with a meaningful order. Examples include socio economic status **(low income,middle income,high income), education level (high school,BS,MS,PhD)**.\n",
        "\n",
        "3. **Datetime :**\n",
        "   - **Datetime (datetime64):** Datetime data, also referred to as timestamp or time series data, represents information related to dates and times.\n",
        "\n",
        "4. **Sparse Data:**\n",
        "    - Sparse data refers to data where a large proportion of the elements have a value of zero. This type of data is common in various fields, such as natural language processing, recommendation systems, and network analysis. An example of sparse data is given below where rows represent users and columns represent movies. Each entry in the dataset indicates whether a user has rated a particular movie.\n",
        "\n",
        "    ```\n",
        "    User       Movie A   Movie B   Movie C   Movie D   Movie E\n",
        "    User 1        4         0         0         0         0\n",
        "    User 2        0         0         0         5         0\n",
        "    User 3        0         0         3         0         0\n",
        "    User 4        0         0         0         0         2\n",
        "    User 5        0         1         0         0         0\n",
        "    ```\n",
        "\n",
        "    - Sparse data often requires specific techniques and algorithms to efficiently handle and analyze, as processing all the zero values can be computationally expensive and may not provide meaningful insights.\n",
        "\n",
        "    - The `scipy.sparse` module provides a variety of sparse matrix types and operations for sparse matrix manipulations. It includes formats such as CSR (Compressed Sparse Row), CSC (Compressed Sparse Column), COO (Coordinate), and others.\n"
      ],
      "metadata": {
        "id": "Jiu5FFoiIjfx"
      }
    },
    {
      "cell_type": "code",
      "source": [
        "import pandas as pd\n",
        "url = 'https://drive.google.com/file/d/19aYZVyCsbKp0UEQl8QQagKyHFmromwQg/view?usp=sharing'\n",
        "path = 'https://drive.google.com/uc?export=download&id='+url.split('/')[-2]\n",
        "df = pd.read_csv(path)\n",
        "df.head()"
      ],
      "metadata": {
        "id": "H7yHJdX9T9x3"
      },
      "execution_count": null,
      "outputs": []
    },
    {
      "cell_type": "markdown",
      "source": [
        "1. **total_bill (Numeric):** Represents the total bill amount for a meal, usually a float.\n",
        "\n",
        "2. **tip (Numeric):** Represents the tip amount given by the customer, usually a float.\n",
        "\n",
        "3. **sex (Categorical):** Represents the gender of the person paying the bill, often categorized as \"Male\" or \"Female.\"\n",
        "\n",
        "4. **smoker (Categorical):** Indicates whether the party was a smoker or non-smoker, often categorized as \"Yes\" or \"No.\"\n",
        "\n",
        "5. **day (Categorical):** Represents the day of the week when the meal took place, categorized as \"Thur,\" \"Fri,\" \"Sat,\" or \"Sun.\"\n",
        "\n",
        "6. **time (Categorical):** Indicates whether the meal was lunch or dinner.\n",
        "\n",
        "7. **size (Categorical):** Represents the size of the dining party.\n"
      ],
      "metadata": {
        "id": "mYkWEGcnfw-L"
      }
    },
    {
      "cell_type": "markdown",
      "source": [
        "## Handling Missing Values"
      ],
      "metadata": {
        "id": "4r4kMvleWkp-"
      }
    },
    {
      "cell_type": "markdown",
      "source": [
        "Handling missing data is a crucial aspect of data cleaning and analysis. In pandas, missing data is typically represented by `NaN` (Not a Number). Here are some common techniques for handling missing data in pandas:\n",
        "\n",
        "### 1. Detecting Missing Data:\n",
        "   - The `isnull()` method can be used to detect missing values in a DataFrame. It returns a DataFrame of the same shape, where each element is `True` or `False` based on whether the corresponding element in the original DataFrame is missing.\n",
        "\n",
        "   ```python\n",
        "   # Detect missing values\n",
        "   missing_values = df.isnull()\n",
        "   number_of_missing_values=df.isnull().sum()\n",
        "   ```\n",
        "\n",
        "### 2. Dropping Missing Values:\n",
        "   - The [dropna()](https://pandas.pydata.org/docs/reference/api/pandas.DataFrame.dropna.html) method can be used to remove rows or columns containing missing values. The `axis` parameter specifies whether to drop rows (`axis=0`) or columns (`axis=1`). The `how` parameter specifies whether to drop rows/columns with any missing values (`how='any'`) or all missing values (`how='all'`).\n",
        "\n",
        "   ```python\n",
        "   # Drop rows containing any missing values\n",
        "   df_no_missing_rows_any = df.dropna(how='any', axis=0)\n",
        "\n",
        "   # Drop rows containing all missing values\n",
        "   df_no_missing_rows_all = df.dropna(how='all', axis=0)\n",
        "\n",
        "   # Drop columns containing any missing values\n",
        "   df_no_missing_cols_any = df.dropna(how='any', axis=1)\n",
        "\n",
        "   # Drop columns containing all missing values\n",
        "   df_no_missing_cols_all = df.dropna(how='all', axis=1)\n",
        "   ```\n",
        "\n",
        "### 3. Filling Missing Values:\n",
        "   - The [fillna()](https://pandas.pydata.org/docs/reference/api/pandas.DataFrame.fillna.html) method can be used to fill missing values with a specific value or with the result of a function.\n",
        "\n",
        "   ```python\n",
        "   # Fill missing values with a specific value\n",
        "   df_filled = df.fillna(0)\n",
        "   # Fill missing values with the mean of each column\n",
        "   df_mean_filled = df.fillna(df.mean())\n",
        "   # Fill missing values of one or more columns\n",
        "   df.fillna({column_name:value})\n",
        "   ```\n"
      ],
      "metadata": {
        "id": "GqPs2uttW7ny"
      }
    },
    {
      "cell_type": "code",
      "source": [
        "import pandas as pd\n",
        "import numpy as np\n",
        "data = {\n",
        "    'A': [1, 2, np.nan, 4],\n",
        "    'B': [5, np.nan, np.nan, 8],\n",
        "    'C': [9, 10, np.nan,11]\n",
        "}\n",
        "df = pd.DataFrame(data)\n",
        "df"
      ],
      "metadata": {
        "id": "LzD1bz0BjjKX",
        "colab": {
          "base_uri": "https://localhost:8080/",
          "height": 175
        },
        "outputId": "1b40473b-9285-4491-9fa3-f5527a527286"
      },
      "execution_count": null,
      "outputs": [
        {
          "output_type": "execute_result",
          "data": {
            "text/plain": [
              "     A    B     C\n",
              "0  1.0  5.0   9.0\n",
              "1  2.0  NaN  10.0\n",
              "2  NaN  NaN   NaN\n",
              "3  4.0  8.0  11.0"
            ],
            "text/html": [
              "\n",
              "  <div id=\"df-2ff877ac-d9ff-4736-a36f-f50e657914e3\" class=\"colab-df-container\">\n",
              "    <div>\n",
              "<style scoped>\n",
              "    .dataframe tbody tr th:only-of-type {\n",
              "        vertical-align: middle;\n",
              "    }\n",
              "\n",
              "    .dataframe tbody tr th {\n",
              "        vertical-align: top;\n",
              "    }\n",
              "\n",
              "    .dataframe thead th {\n",
              "        text-align: right;\n",
              "    }\n",
              "</style>\n",
              "<table border=\"1\" class=\"dataframe\">\n",
              "  <thead>\n",
              "    <tr style=\"text-align: right;\">\n",
              "      <th></th>\n",
              "      <th>A</th>\n",
              "      <th>B</th>\n",
              "      <th>C</th>\n",
              "    </tr>\n",
              "  </thead>\n",
              "  <tbody>\n",
              "    <tr>\n",
              "      <th>0</th>\n",
              "      <td>1.0</td>\n",
              "      <td>5.0</td>\n",
              "      <td>9.0</td>\n",
              "    </tr>\n",
              "    <tr>\n",
              "      <th>1</th>\n",
              "      <td>2.0</td>\n",
              "      <td>NaN</td>\n",
              "      <td>10.0</td>\n",
              "    </tr>\n",
              "    <tr>\n",
              "      <th>2</th>\n",
              "      <td>NaN</td>\n",
              "      <td>NaN</td>\n",
              "      <td>NaN</td>\n",
              "    </tr>\n",
              "    <tr>\n",
              "      <th>3</th>\n",
              "      <td>4.0</td>\n",
              "      <td>8.0</td>\n",
              "      <td>11.0</td>\n",
              "    </tr>\n",
              "  </tbody>\n",
              "</table>\n",
              "</div>\n",
              "    <div class=\"colab-df-buttons\">\n",
              "\n",
              "  <div class=\"colab-df-container\">\n",
              "    <button class=\"colab-df-convert\" onclick=\"convertToInteractive('df-2ff877ac-d9ff-4736-a36f-f50e657914e3')\"\n",
              "            title=\"Convert this dataframe to an interactive table.\"\n",
              "            style=\"display:none;\">\n",
              "\n",
              "  <svg xmlns=\"http://www.w3.org/2000/svg\" height=\"24px\" viewBox=\"0 -960 960 960\">\n",
              "    <path d=\"M120-120v-720h720v720H120Zm60-500h600v-160H180v160Zm220 220h160v-160H400v160Zm0 220h160v-160H400v160ZM180-400h160v-160H180v160Zm440 0h160v-160H620v160ZM180-180h160v-160H180v160Zm440 0h160v-160H620v160Z\"/>\n",
              "  </svg>\n",
              "    </button>\n",
              "\n",
              "  <style>\n",
              "    .colab-df-container {\n",
              "      display:flex;\n",
              "      gap: 12px;\n",
              "    }\n",
              "\n",
              "    .colab-df-convert {\n",
              "      background-color: #E8F0FE;\n",
              "      border: none;\n",
              "      border-radius: 50%;\n",
              "      cursor: pointer;\n",
              "      display: none;\n",
              "      fill: #1967D2;\n",
              "      height: 32px;\n",
              "      padding: 0 0 0 0;\n",
              "      width: 32px;\n",
              "    }\n",
              "\n",
              "    .colab-df-convert:hover {\n",
              "      background-color: #E2EBFA;\n",
              "      box-shadow: 0px 1px 2px rgba(60, 64, 67, 0.3), 0px 1px 3px 1px rgba(60, 64, 67, 0.15);\n",
              "      fill: #174EA6;\n",
              "    }\n",
              "\n",
              "    .colab-df-buttons div {\n",
              "      margin-bottom: 4px;\n",
              "    }\n",
              "\n",
              "    [theme=dark] .colab-df-convert {\n",
              "      background-color: #3B4455;\n",
              "      fill: #D2E3FC;\n",
              "    }\n",
              "\n",
              "    [theme=dark] .colab-df-convert:hover {\n",
              "      background-color: #434B5C;\n",
              "      box-shadow: 0px 1px 3px 1px rgba(0, 0, 0, 0.15);\n",
              "      filter: drop-shadow(0px 1px 2px rgba(0, 0, 0, 0.3));\n",
              "      fill: #FFFFFF;\n",
              "    }\n",
              "  </style>\n",
              "\n",
              "    <script>\n",
              "      const buttonEl =\n",
              "        document.querySelector('#df-2ff877ac-d9ff-4736-a36f-f50e657914e3 button.colab-df-convert');\n",
              "      buttonEl.style.display =\n",
              "        google.colab.kernel.accessAllowed ? 'block' : 'none';\n",
              "\n",
              "      async function convertToInteractive(key) {\n",
              "        const element = document.querySelector('#df-2ff877ac-d9ff-4736-a36f-f50e657914e3');\n",
              "        const dataTable =\n",
              "          await google.colab.kernel.invokeFunction('convertToInteractive',\n",
              "                                                    [key], {});\n",
              "        if (!dataTable) return;\n",
              "\n",
              "        const docLinkHtml = 'Like what you see? Visit the ' +\n",
              "          '<a target=\"_blank\" href=https://colab.research.google.com/notebooks/data_table.ipynb>data table notebook</a>'\n",
              "          + ' to learn more about interactive tables.';\n",
              "        element.innerHTML = '';\n",
              "        dataTable['output_type'] = 'display_data';\n",
              "        await google.colab.output.renderOutput(dataTable, element);\n",
              "        const docLink = document.createElement('div');\n",
              "        docLink.innerHTML = docLinkHtml;\n",
              "        element.appendChild(docLink);\n",
              "      }\n",
              "    </script>\n",
              "  </div>\n",
              "\n",
              "\n",
              "<div id=\"df-53f439b1-057e-4535-ad91-0113de6c782d\">\n",
              "  <button class=\"colab-df-quickchart\" onclick=\"quickchart('df-53f439b1-057e-4535-ad91-0113de6c782d')\"\n",
              "            title=\"Suggest charts\"\n",
              "            style=\"display:none;\">\n",
              "\n",
              "<svg xmlns=\"http://www.w3.org/2000/svg\" height=\"24px\"viewBox=\"0 0 24 24\"\n",
              "     width=\"24px\">\n",
              "    <g>\n",
              "        <path d=\"M19 3H5c-1.1 0-2 .9-2 2v14c0 1.1.9 2 2 2h14c1.1 0 2-.9 2-2V5c0-1.1-.9-2-2-2zM9 17H7v-7h2v7zm4 0h-2V7h2v10zm4 0h-2v-4h2v4z\"/>\n",
              "    </g>\n",
              "</svg>\n",
              "  </button>\n",
              "\n",
              "<style>\n",
              "  .colab-df-quickchart {\n",
              "      --bg-color: #E8F0FE;\n",
              "      --fill-color: #1967D2;\n",
              "      --hover-bg-color: #E2EBFA;\n",
              "      --hover-fill-color: #174EA6;\n",
              "      --disabled-fill-color: #AAA;\n",
              "      --disabled-bg-color: #DDD;\n",
              "  }\n",
              "\n",
              "  [theme=dark] .colab-df-quickchart {\n",
              "      --bg-color: #3B4455;\n",
              "      --fill-color: #D2E3FC;\n",
              "      --hover-bg-color: #434B5C;\n",
              "      --hover-fill-color: #FFFFFF;\n",
              "      --disabled-bg-color: #3B4455;\n",
              "      --disabled-fill-color: #666;\n",
              "  }\n",
              "\n",
              "  .colab-df-quickchart {\n",
              "    background-color: var(--bg-color);\n",
              "    border: none;\n",
              "    border-radius: 50%;\n",
              "    cursor: pointer;\n",
              "    display: none;\n",
              "    fill: var(--fill-color);\n",
              "    height: 32px;\n",
              "    padding: 0;\n",
              "    width: 32px;\n",
              "  }\n",
              "\n",
              "  .colab-df-quickchart:hover {\n",
              "    background-color: var(--hover-bg-color);\n",
              "    box-shadow: 0 1px 2px rgba(60, 64, 67, 0.3), 0 1px 3px 1px rgba(60, 64, 67, 0.15);\n",
              "    fill: var(--button-hover-fill-color);\n",
              "  }\n",
              "\n",
              "  .colab-df-quickchart-complete:disabled,\n",
              "  .colab-df-quickchart-complete:disabled:hover {\n",
              "    background-color: var(--disabled-bg-color);\n",
              "    fill: var(--disabled-fill-color);\n",
              "    box-shadow: none;\n",
              "  }\n",
              "\n",
              "  .colab-df-spinner {\n",
              "    border: 2px solid var(--fill-color);\n",
              "    border-color: transparent;\n",
              "    border-bottom-color: var(--fill-color);\n",
              "    animation:\n",
              "      spin 1s steps(1) infinite;\n",
              "  }\n",
              "\n",
              "  @keyframes spin {\n",
              "    0% {\n",
              "      border-color: transparent;\n",
              "      border-bottom-color: var(--fill-color);\n",
              "      border-left-color: var(--fill-color);\n",
              "    }\n",
              "    20% {\n",
              "      border-color: transparent;\n",
              "      border-left-color: var(--fill-color);\n",
              "      border-top-color: var(--fill-color);\n",
              "    }\n",
              "    30% {\n",
              "      border-color: transparent;\n",
              "      border-left-color: var(--fill-color);\n",
              "      border-top-color: var(--fill-color);\n",
              "      border-right-color: var(--fill-color);\n",
              "    }\n",
              "    40% {\n",
              "      border-color: transparent;\n",
              "      border-right-color: var(--fill-color);\n",
              "      border-top-color: var(--fill-color);\n",
              "    }\n",
              "    60% {\n",
              "      border-color: transparent;\n",
              "      border-right-color: var(--fill-color);\n",
              "    }\n",
              "    80% {\n",
              "      border-color: transparent;\n",
              "      border-right-color: var(--fill-color);\n",
              "      border-bottom-color: var(--fill-color);\n",
              "    }\n",
              "    90% {\n",
              "      border-color: transparent;\n",
              "      border-bottom-color: var(--fill-color);\n",
              "    }\n",
              "  }\n",
              "</style>\n",
              "\n",
              "  <script>\n",
              "    async function quickchart(key) {\n",
              "      const quickchartButtonEl =\n",
              "        document.querySelector('#' + key + ' button');\n",
              "      quickchartButtonEl.disabled = true;  // To prevent multiple clicks.\n",
              "      quickchartButtonEl.classList.add('colab-df-spinner');\n",
              "      try {\n",
              "        const charts = await google.colab.kernel.invokeFunction(\n",
              "            'suggestCharts', [key], {});\n",
              "      } catch (error) {\n",
              "        console.error('Error during call to suggestCharts:', error);\n",
              "      }\n",
              "      quickchartButtonEl.classList.remove('colab-df-spinner');\n",
              "      quickchartButtonEl.classList.add('colab-df-quickchart-complete');\n",
              "    }\n",
              "    (() => {\n",
              "      let quickchartButtonEl =\n",
              "        document.querySelector('#df-53f439b1-057e-4535-ad91-0113de6c782d button');\n",
              "      quickchartButtonEl.style.display =\n",
              "        google.colab.kernel.accessAllowed ? 'block' : 'none';\n",
              "    })();\n",
              "  </script>\n",
              "</div>\n",
              "\n",
              "  <div id=\"id_f21ffaf4-9e57-432e-a4be-f8d193c88e0d\">\n",
              "    <style>\n",
              "      .colab-df-generate {\n",
              "        background-color: #E8F0FE;\n",
              "        border: none;\n",
              "        border-radius: 50%;\n",
              "        cursor: pointer;\n",
              "        display: none;\n",
              "        fill: #1967D2;\n",
              "        height: 32px;\n",
              "        padding: 0 0 0 0;\n",
              "        width: 32px;\n",
              "      }\n",
              "\n",
              "      .colab-df-generate:hover {\n",
              "        background-color: #E2EBFA;\n",
              "        box-shadow: 0px 1px 2px rgba(60, 64, 67, 0.3), 0px 1px 3px 1px rgba(60, 64, 67, 0.15);\n",
              "        fill: #174EA6;\n",
              "      }\n",
              "\n",
              "      [theme=dark] .colab-df-generate {\n",
              "        background-color: #3B4455;\n",
              "        fill: #D2E3FC;\n",
              "      }\n",
              "\n",
              "      [theme=dark] .colab-df-generate:hover {\n",
              "        background-color: #434B5C;\n",
              "        box-shadow: 0px 1px 3px 1px rgba(0, 0, 0, 0.15);\n",
              "        filter: drop-shadow(0px 1px 2px rgba(0, 0, 0, 0.3));\n",
              "        fill: #FFFFFF;\n",
              "      }\n",
              "    </style>\n",
              "    <button class=\"colab-df-generate\" onclick=\"generateWithVariable('df')\"\n",
              "            title=\"Generate code using this dataframe.\"\n",
              "            style=\"display:none;\">\n",
              "\n",
              "  <svg xmlns=\"http://www.w3.org/2000/svg\" height=\"24px\"viewBox=\"0 0 24 24\"\n",
              "       width=\"24px\">\n",
              "    <path d=\"M7,19H8.4L18.45,9,17,7.55,7,17.6ZM5,21V16.75L18.45,3.32a2,2,0,0,1,2.83,0l1.4,1.43a1.91,1.91,0,0,1,.58,1.4,1.91,1.91,0,0,1-.58,1.4L9.25,21ZM18.45,9,17,7.55Zm-12,3A5.31,5.31,0,0,0,4.9,8.1,5.31,5.31,0,0,0,1,6.5,5.31,5.31,0,0,0,4.9,4.9,5.31,5.31,0,0,0,6.5,1,5.31,5.31,0,0,0,8.1,4.9,5.31,5.31,0,0,0,12,6.5,5.46,5.46,0,0,0,6.5,12Z\"/>\n",
              "  </svg>\n",
              "    </button>\n",
              "    <script>\n",
              "      (() => {\n",
              "      const buttonEl =\n",
              "        document.querySelector('#id_f21ffaf4-9e57-432e-a4be-f8d193c88e0d button.colab-df-generate');\n",
              "      buttonEl.style.display =\n",
              "        google.colab.kernel.accessAllowed ? 'block' : 'none';\n",
              "\n",
              "      buttonEl.onclick = () => {\n",
              "        google.colab.notebook.generateWithVariable('df');\n",
              "      }\n",
              "      })();\n",
              "    </script>\n",
              "  </div>\n",
              "\n",
              "    </div>\n",
              "  </div>\n"
            ],
            "application/vnd.google.colaboratory.intrinsic+json": {
              "type": "dataframe",
              "variable_name": "df",
              "summary": "{\n  \"name\": \"df\",\n  \"rows\": 4,\n  \"fields\": [\n    {\n      \"column\": \"A\",\n      \"properties\": {\n        \"dtype\": \"number\",\n        \"std\": 1.5275252316519465,\n        \"min\": 1.0,\n        \"max\": 4.0,\n        \"num_unique_values\": 3,\n        \"samples\": [\n          1.0,\n          2.0,\n          4.0\n        ],\n        \"semantic_type\": \"\",\n        \"description\": \"\"\n      }\n    },\n    {\n      \"column\": \"B\",\n      \"properties\": {\n        \"dtype\": \"number\",\n        \"std\": 2.1213203435596424,\n        \"min\": 5.0,\n        \"max\": 8.0,\n        \"num_unique_values\": 2,\n        \"samples\": [\n          8.0,\n          5.0\n        ],\n        \"semantic_type\": \"\",\n        \"description\": \"\"\n      }\n    },\n    {\n      \"column\": \"C\",\n      \"properties\": {\n        \"dtype\": \"number\",\n        \"std\": 1.0,\n        \"min\": 9.0,\n        \"max\": 11.0,\n        \"num_unique_values\": 3,\n        \"samples\": [\n          9.0,\n          10.0\n        ],\n        \"semantic_type\": \"\",\n        \"description\": \"\"\n      }\n    }\n  ]\n}"
            }
          },
          "metadata": {},
          "execution_count": 7
        }
      ]
    },
    {
      "cell_type": "code",
      "source": [
        "df.isnull().sum()"
      ],
      "metadata": {
        "colab": {
          "base_uri": "https://localhost:8080/"
        },
        "id": "SQ7HUP1VqdnF",
        "outputId": "3ac84c8f-6a6f-41a4-a9c4-3f75689b1da4"
      },
      "execution_count": null,
      "outputs": [
        {
          "output_type": "execute_result",
          "data": {
            "text/plain": [
              "A    1\n",
              "B    2\n",
              "C    1\n",
              "dtype: int64"
            ]
          },
          "metadata": {},
          "execution_count": 6
        }
      ]
    },
    {
      "cell_type": "code",
      "source": [
        "df_dropped_any = df.dropna(how='any', axis=0) # Drop rows with any NaN values (how='any', axis=0)\n",
        "df_dropped_all = df.dropna(how='all', axis=0) # Drop rows with all NaN values (how='all', axis=0)\n",
        "df_dropped_any_col = df.dropna(how='any', axis=1) # Drop columns with any NaN values (how='any', axis=1)\n",
        "df_dropped_all_col = df.dropna(how='all', axis=1) # Drop columns with all NaN values (how='all', axis=1)"
      ],
      "metadata": {
        "id": "46QgoZIKqaqm"
      },
      "execution_count": null,
      "outputs": []
    },
    {
      "cell_type": "markdown",
      "source": [
        "## Encoding Categorical Variables"
      ],
      "metadata": {
        "id": "qcMkOxeaXI3f"
      }
    },
    {
      "cell_type": "markdown",
      "source": [
        "Encoding categorical  is a crucial step in the data preprocessing phase, especially when working with machine learning models.\n",
        "\n",
        "Most Common Categorical Data Encoding Techniques:\n",
        "\n",
        "1. **Label Encoding:**\n",
        "\n",
        "    - Assigns a unique integer to each category.\n",
        "    - Suitable for ordinal data where there is a natural order among categories.\n",
        "    - Not recommended for nominal data as it may imply misleading relationships.\n",
        "\n",
        "2. **One-Hot Encoding:**\n",
        "\n",
        "    - Creates binary columns for each category (0 or 1).\n",
        "    - Suitable for nominal data without any natural order.\n",
        "    - Increases dimensionality but avoids false ordinal relationships."
      ],
      "metadata": {
        "id": "ux7pOK6gXZoq"
      }
    },
    {
      "cell_type": "markdown",
      "source": [
        "### Label Encoding"
      ],
      "metadata": {
        "id": "ep_j4HXrsM8C"
      }
    },
    {
      "cell_type": "code",
      "source": [
        "import pandas as pd\n",
        "url = 'https://drive.google.com/file/d/19aYZVyCsbKp0UEQl8QQagKyHFmromwQg/view?usp=sharing'\n",
        "path = 'https://drive.google.com/uc?export=download&id='+url.split('/')[-2]\n",
        "df = pd.read_csv(path)\n",
        "df"
      ],
      "metadata": {
        "id": "M9sLVVOzswDp"
      },
      "execution_count": null,
      "outputs": []
    },
    {
      "cell_type": "code",
      "source": [
        "labels={'one': 1, 'two': 2, 'three': 3, 'four': 4, 'five': 5, 'six': 6}\n",
        "df['size']=df['size'].map(labels)\n",
        "df"
      ],
      "metadata": {
        "id": "CrvBavXcHfpJ"
      },
      "execution_count": null,
      "outputs": []
    },
    {
      "cell_type": "markdown",
      "source": [
        "### One-Hot Encoding"
      ],
      "metadata": {
        "id": "75ipY4SVtEDh"
      }
    },
    {
      "cell_type": "code",
      "source": [
        "# Perform one-hot encoding on the categorical columns\n",
        "one_hot_encoded_df = pd.get_dummies(df,columns=['sex','day','time','smoker'])\n",
        "one_hot_encoded_df"
      ],
      "metadata": {
        "id": "TcAe0jPhqbku"
      },
      "execution_count": null,
      "outputs": []
    },
    {
      "cell_type": "markdown",
      "source": [
        "## Feature Scaling"
      ],
      "metadata": {
        "id": "YIGYwtbq_dJO"
      }
    },
    {
      "cell_type": "markdown",
      "source": [
        "Feature scaling is a data preprocessing technique used in machine learning and statistics to scale the values of features ( or attributes) in a dataset to a standard range. The primary goal of feature scaling is to ensure that all the features have similar scales, which can help improve the performance of many machine learning algorithms. It is particularly important when using algorithms that are sensitive to the scale of input features, such as gradient descent-based optimization methods (e.g., in neural networks) and distance-based algorithms (e.g., k-nearest neighbors or support vector machines).\n",
        "\n",
        "Common methods of feature scaling include:\n",
        "\n",
        "1. Min-Max Scaling (Normalization):\n",
        "   - This method scales the feature values to a specific range, typically between 0 and 1.\n",
        "   - The formula for min-max scaling is:\n",
        "     ```\n",
        "     X_normalized = (X - X_min) / (X_max - X_min)\n",
        "     ```\n",
        "   - Here, X is the original feature value, X_normalized is the normalized value, X_min is the minimum value in the feature, and X_max is the maximum value in the feature.\n",
        "\n",
        "    **The function below accepts a Pandas column as a parameter and returns the scaled data:**\n",
        "    ```python\n",
        "    def minmax_scale(column):\n",
        "        min_val = column.min()\n",
        "        max_val = column.max()\n",
        "        scaled_column = (column - min_val) / (max_val - min_val)\n",
        "        return scaled_column\n",
        "    ```\n",
        "   \n",
        "\n",
        "2. Standardization:\n",
        "   - Also known as z-score standardization, scales the feature values to have a mean (average) of 0 and a standard deviation of 1.\n",
        "   - The formula for standardization is:\n",
        "     ```\n",
        "     X_standardized = (X - mean) / standard deviation\n",
        "     ```\n",
        "   - Here, X is the original feature value, X_standardized is the standardized value, mean is the mean of the feature values, and the standard deviation is the standard deviation of the feature values.\n",
        "   \n",
        "    **The function below accepts a Pandas column as a parameter and returns the scaled data:**\n",
        "   ```python\n",
        "    def zscore_standardize(column):\n",
        "        mean_val = column.mean()\n",
        "        std_dev = column.std()\n",
        "        standardized_column = (column - mean_val) / std_dev\n",
        "        return standardized_column\n",
        "   ```\n",
        "\n",
        "3. Robust Scaling:\n",
        "   - Robust scaling is a method that scales the features using the interquartile range (IQR) to make it less sensitive to outliers.\n",
        "   - The formula for robust scaling is:\n",
        "     ```\n",
        "     X_robust = (X - X_median) / (Q3 - Q1)\n",
        "     ```\n",
        "   - Here, X is the original feature value, X_robust is the robust-scaled value, Q1 is the first quartile, and Q3 is the third quartile of the feature values.\n",
        "\n",
        "      ```python\n",
        "      def robust_scale(column):\n",
        "        median_val = column.median()\n",
        "        iqr = column.quantile(0.75) - column.quantile(0.25)\n",
        "        scaled_column = (column - median_val) / iqr\n",
        "        return scaled_column\n",
        "        ```"
      ],
      "metadata": {
        "id": "KJG-hXAnAKHN"
      }
    },
    {
      "cell_type": "code",
      "source": [
        "# Define Min-Max scaling function\n",
        "def minmax_scale(column):\n",
        "    min_val = column.min()\n",
        "    max_val = column.max()\n",
        "    scaled_column = (column - min_val) / (max_val - min_val)\n",
        "    return scaled_column\n",
        "\n",
        "df['total_bill']=minmax_scale(df['total_bill'])\n",
        "df['tip']=minmax_scale(df['tip'])"
      ],
      "metadata": {
        "id": "Do3HuX5llITq"
      },
      "execution_count": null,
      "outputs": []
    }
  ],
  "metadata": {
    "colab": {
      "provenance": [],
      "collapsed_sections": [
        "aVtxQgfIMt2g",
        "4r4kMvleWkp-",
        "qcMkOxeaXI3f",
        "ep_j4HXrsM8C",
        "75ipY4SVtEDh",
        "YIGYwtbq_dJO"
      ]
    },
    "kernelspec": {
      "display_name": "Python 3",
      "language": "python",
      "name": "python3"
    },
    "language_info": {
      "codemirror_mode": {
        "name": "ipython",
        "version": 3
      },
      "file_extension": ".py",
      "mimetype": "text/x-python",
      "name": "python",
      "nbconvert_exporter": "python",
      "pygments_lexer": "ipython3",
      "version": "3.10.10"
    },
    "vscode": {
      "interpreter": {
        "hash": "aee8b7b246df8f9039afb4144a1f6fd8d2ca17a180786b69acc140d282b71a49"
      }
    }
  },
  "nbformat": 4,
  "nbformat_minor": 0
}