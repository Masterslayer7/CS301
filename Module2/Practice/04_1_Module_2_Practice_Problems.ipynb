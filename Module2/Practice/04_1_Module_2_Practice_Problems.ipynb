{
  "cells": [
    {
      "cell_type": "markdown",
      "id": "69TLR5SGl63o",
      "metadata": {
        "id": "69TLR5SGl63o"
      },
      "source": [
        "This Jupyter notebook presents a series of practice problems aimed at improving your skills in using the pandas library for data analysis. You will work through various tasks using a dataset of tips received by restaurant waitstaff, covering fundamental pandas operations such as performing basic statistical calculations, grouping and aggregating data, and applying element-wise operations."
      ]
    },
    {
      "cell_type": "code",
      "execution_count": 1,
      "id": "001",
      "metadata": {
        "id": "001"
      },
      "outputs": [
        {
          "data": {
            "text/html": [
              "<div>\n",
              "<style scoped>\n",
              "    .dataframe tbody tr th:only-of-type {\n",
              "        vertical-align: middle;\n",
              "    }\n",
              "\n",
              "    .dataframe tbody tr th {\n",
              "        vertical-align: top;\n",
              "    }\n",
              "\n",
              "    .dataframe thead th {\n",
              "        text-align: right;\n",
              "    }\n",
              "</style>\n",
              "<table border=\"1\" class=\"dataframe\">\n",
              "  <thead>\n",
              "    <tr style=\"text-align: right;\">\n",
              "      <th></th>\n",
              "      <th>total_bill</th>\n",
              "      <th>tip</th>\n",
              "      <th>sex</th>\n",
              "      <th>smoker</th>\n",
              "      <th>day</th>\n",
              "      <th>time</th>\n",
              "      <th>size</th>\n",
              "    </tr>\n",
              "  </thead>\n",
              "  <tbody>\n",
              "    <tr>\n",
              "      <th>0</th>\n",
              "      <td>16.99</td>\n",
              "      <td>1.01</td>\n",
              "      <td>Female</td>\n",
              "      <td>No</td>\n",
              "      <td>Sun</td>\n",
              "      <td>Dinner</td>\n",
              "      <td>two</td>\n",
              "    </tr>\n",
              "    <tr>\n",
              "      <th>1</th>\n",
              "      <td>10.34</td>\n",
              "      <td>1.66</td>\n",
              "      <td>Male</td>\n",
              "      <td>No</td>\n",
              "      <td>Sun</td>\n",
              "      <td>Dinner</td>\n",
              "      <td>three</td>\n",
              "    </tr>\n",
              "    <tr>\n",
              "      <th>2</th>\n",
              "      <td>21.01</td>\n",
              "      <td>3.50</td>\n",
              "      <td>Male</td>\n",
              "      <td>No</td>\n",
              "      <td>Sun</td>\n",
              "      <td>Dinner</td>\n",
              "      <td>three</td>\n",
              "    </tr>\n",
              "    <tr>\n",
              "      <th>3</th>\n",
              "      <td>23.68</td>\n",
              "      <td>3.31</td>\n",
              "      <td>Male</td>\n",
              "      <td>No</td>\n",
              "      <td>Sun</td>\n",
              "      <td>Dinner</td>\n",
              "      <td>two</td>\n",
              "    </tr>\n",
              "    <tr>\n",
              "      <th>4</th>\n",
              "      <td>24.59</td>\n",
              "      <td>3.61</td>\n",
              "      <td>Female</td>\n",
              "      <td>No</td>\n",
              "      <td>Sun</td>\n",
              "      <td>Dinner</td>\n",
              "      <td>four</td>\n",
              "    </tr>\n",
              "  </tbody>\n",
              "</table>\n",
              "</div>"
            ],
            "text/plain": [
              "   total_bill   tip     sex smoker  day    time   size\n",
              "0       16.99  1.01  Female     No  Sun  Dinner    two\n",
              "1       10.34  1.66    Male     No  Sun  Dinner  three\n",
              "2       21.01  3.50    Male     No  Sun  Dinner  three\n",
              "3       23.68  3.31    Male     No  Sun  Dinner    two\n",
              "4       24.59  3.61  Female     No  Sun  Dinner   four"
            ]
          },
          "execution_count": 1,
          "metadata": {},
          "output_type": "execute_result"
        }
      ],
      "source": [
        "import pandas as pd\n",
        "url=\"https://drive.google.com/file/d/1tuoY2pOy57GJfy69cxOwWkxQ1tiWqDbJ/view?usp=sharing\"\n",
        "path = 'https://drive.google.com/uc?export=download&id='+url.split('/')[-2]\n",
        "tips = pd.read_csv(path)\n",
        "tips.head()"
      ]
    },
    {
      "cell_type": "markdown",
      "id": "002",
      "metadata": {
        "id": "002"
      },
      "source": [
        "### 1. What is the average tip given?"
      ]
    },
    {
      "cell_type": "code",
      "execution_count": 3,
      "id": "003",
      "metadata": {
        "id": "003"
      },
      "outputs": [
        {
          "data": {
            "text/plain": [
              "2.9982716049382714"
            ]
          },
          "execution_count": 3,
          "metadata": {},
          "output_type": "execute_result"
        }
      ],
      "source": [
        "tips['tip'].mean()"
      ]
    },
    {
      "cell_type": "markdown",
      "id": "004",
      "metadata": {
        "id": "004"
      },
      "source": [
        "### 2. What is the highest total bill recorded?"
      ]
    },
    {
      "cell_type": "code",
      "execution_count": 4,
      "id": "005",
      "metadata": {
        "id": "005"
      },
      "outputs": [
        {
          "data": {
            "text/plain": [
              "50.81"
            ]
          },
          "execution_count": 4,
          "metadata": {},
          "output_type": "execute_result"
        }
      ],
      "source": [
        "tips['total_bill'].max()"
      ]
    },
    {
      "cell_type": "markdown",
      "id": "006",
      "metadata": {
        "id": "006"
      },
      "source": [
        "### 3. How many meals were served for each day of the week?"
      ]
    },
    {
      "cell_type": "code",
      "execution_count": 10,
      "id": "007",
      "metadata": {
        "id": "007"
      },
      "outputs": [
        {
          "data": {
            "text/plain": [
              "day\n",
              "Sat     86\n",
              "Sun     74\n",
              "Thur    62\n",
              "Fri     19\n",
              "Name: count, dtype: int64"
            ]
          },
          "execution_count": 10,
          "metadata": {},
          "output_type": "execute_result"
        }
      ],
      "source": [
        "tips.value_counts('day')"
      ]
    },
    {
      "cell_type": "markdown",
      "id": "008",
      "metadata": {
        "id": "008"
      },
      "source": [
        "### 4. What is the average tip by gender?"
      ]
    },
    {
      "cell_type": "code",
      "execution_count": 21,
      "id": "009",
      "metadata": {
        "id": "009"
      },
      "outputs": [
        {
          "data": {
            "text/plain": [
              "sex\n",
              "Female    2.833448\n",
              "Male      3.090192\n",
              "Name: tip, dtype: float64"
            ]
          },
          "execution_count": 21,
          "metadata": {},
          "output_type": "execute_result"
        }
      ],
      "source": [
        "tips.groupby('sex')['tip'].mean()"
      ]
    },
    {
      "cell_type": "markdown",
      "id": "010",
      "metadata": {
        "id": "010"
      },
      "source": [
        "### 5. Find the total number of smokers and non-smokers."
      ]
    },
    {
      "cell_type": "code",
      "execution_count": 13,
      "id": "011",
      "metadata": {
        "id": "011"
      },
      "outputs": [
        {
          "data": {
            "text/plain": [
              "smoker\n",
              "No     150\n",
              "Yes     93\n",
              "Name: count, dtype: int64"
            ]
          },
          "execution_count": 13,
          "metadata": {},
          "output_type": "execute_result"
        }
      ],
      "source": [
        "tips.value_counts('smoker')"
      ]
    },
    {
      "cell_type": "markdown",
      "id": "012",
      "metadata": {
        "id": "012"
      },
      "source": [
        "### 6. What is the average tip for smokers and non-smokers?"
      ]
    },
    {
      "cell_type": "code",
      "execution_count": 20,
      "id": "013",
      "metadata": {
        "id": "013"
      },
      "outputs": [
        {
          "data": {
            "text/plain": [
              "smoker\n",
              "No     2.99180\n",
              "Yes    3.00871\n",
              "Name: tip, dtype: float64"
            ]
          },
          "execution_count": 20,
          "metadata": {},
          "output_type": "execute_result"
        }
      ],
      "source": [
        "tips.groupby('smoker')['tip'].mean()"
      ]
    },
    {
      "cell_type": "markdown",
      "id": "014",
      "metadata": {
        "id": "014"
      },
      "source": [
        "### 7. Which day has the highest total bill on average?"
      ]
    },
    {
      "cell_type": "code",
      "execution_count": 25,
      "id": "015",
      "metadata": {
        "id": "015"
      },
      "outputs": [
        {
          "data": {
            "text/plain": [
              "'Sun'"
            ]
          },
          "execution_count": 25,
          "metadata": {},
          "output_type": "execute_result"
        }
      ],
      "source": [
        "tips.groupby('day')['total_bill'].mean().idxmax()"
      ]
    },
    {
      "cell_type": "markdown",
      "id": "020",
      "metadata": {
        "id": "020"
      },
      "source": [
        "### 8. Which gender tends to tip more on average during lunch?"
      ]
    },
    {
      "cell_type": "code",
      "execution_count": 36,
      "id": "021",
      "metadata": {
        "id": "021"
      },
      "outputs": [
        {
          "data": {
            "text/plain": [
              "'Male'"
            ]
          },
          "execution_count": 36,
          "metadata": {},
          "output_type": "execute_result"
        }
      ],
      "source": [
        "tips[tips['time'] == 'Lunch'].groupby('sex')['tip'].mean().idxmax()"
      ]
    },
    {
      "cell_type": "markdown",
      "id": "022",
      "metadata": {
        "id": "022"
      },
      "source": [
        "### 9. Find the average total bill for each group size."
      ]
    },
    {
      "cell_type": "code",
      "execution_count": 37,
      "id": "023",
      "metadata": {
        "id": "023"
      },
      "outputs": [
        {
          "data": {
            "text/plain": [
              "size\n",
              "five     30.068000\n",
              "four     29.213143\n",
              "one       7.242500\n",
              "six      34.830000\n",
              "three    23.277632\n",
              "two      16.441484\n",
              "Name: total_bill, dtype: float64"
            ]
          },
          "execution_count": 37,
          "metadata": {},
          "output_type": "execute_result"
        }
      ],
      "source": [
        "tips.groupby('size')['total_bill'].mean()"
      ]
    },
    {
      "cell_type": "markdown",
      "id": "f0f34f89",
      "metadata": {
        "id": "f0f34f89"
      },
      "source": [
        "### 10. Create a new column `tip_percentage` that represents the tip as a percentage of the total bill."
      ]
    },
    {
      "cell_type": "code",
      "execution_count": 43,
      "id": "52c6a171",
      "metadata": {
        "id": "52c6a171"
      },
      "outputs": [
        {
          "data": {
            "text/html": [
              "<div>\n",
              "<style scoped>\n",
              "    .dataframe tbody tr th:only-of-type {\n",
              "        vertical-align: middle;\n",
              "    }\n",
              "\n",
              "    .dataframe tbody tr th {\n",
              "        vertical-align: top;\n",
              "    }\n",
              "\n",
              "    .dataframe thead th {\n",
              "        text-align: right;\n",
              "    }\n",
              "</style>\n",
              "<table border=\"1\" class=\"dataframe\">\n",
              "  <thead>\n",
              "    <tr style=\"text-align: right;\">\n",
              "      <th></th>\n",
              "      <th>total_bill</th>\n",
              "      <th>tip</th>\n",
              "      <th>sex</th>\n",
              "      <th>smoker</th>\n",
              "      <th>day</th>\n",
              "      <th>time</th>\n",
              "      <th>size</th>\n",
              "      <th>tip_percentage</th>\n",
              "    </tr>\n",
              "  </thead>\n",
              "  <tbody>\n",
              "    <tr>\n",
              "      <th>0</th>\n",
              "      <td>16.99</td>\n",
              "      <td>1.01</td>\n",
              "      <td>Female</td>\n",
              "      <td>No</td>\n",
              "      <td>Sun</td>\n",
              "      <td>Dinner</td>\n",
              "      <td>two</td>\n",
              "      <td>5.944673</td>\n",
              "    </tr>\n",
              "    <tr>\n",
              "      <th>1</th>\n",
              "      <td>10.34</td>\n",
              "      <td>1.66</td>\n",
              "      <td>Male</td>\n",
              "      <td>No</td>\n",
              "      <td>Sun</td>\n",
              "      <td>Dinner</td>\n",
              "      <td>three</td>\n",
              "      <td>16.054159</td>\n",
              "    </tr>\n",
              "    <tr>\n",
              "      <th>2</th>\n",
              "      <td>21.01</td>\n",
              "      <td>3.50</td>\n",
              "      <td>Male</td>\n",
              "      <td>No</td>\n",
              "      <td>Sun</td>\n",
              "      <td>Dinner</td>\n",
              "      <td>three</td>\n",
              "      <td>16.658734</td>\n",
              "    </tr>\n",
              "    <tr>\n",
              "      <th>3</th>\n",
              "      <td>23.68</td>\n",
              "      <td>3.31</td>\n",
              "      <td>Male</td>\n",
              "      <td>No</td>\n",
              "      <td>Sun</td>\n",
              "      <td>Dinner</td>\n",
              "      <td>two</td>\n",
              "      <td>13.978041</td>\n",
              "    </tr>\n",
              "    <tr>\n",
              "      <th>4</th>\n",
              "      <td>24.59</td>\n",
              "      <td>3.61</td>\n",
              "      <td>Female</td>\n",
              "      <td>No</td>\n",
              "      <td>Sun</td>\n",
              "      <td>Dinner</td>\n",
              "      <td>four</td>\n",
              "      <td>14.680765</td>\n",
              "    </tr>\n",
              "  </tbody>\n",
              "</table>\n",
              "</div>"
            ],
            "text/plain": [
              "   total_bill   tip     sex smoker  day    time   size  tip_percentage\n",
              "0       16.99  1.01  Female     No  Sun  Dinner    two        5.944673\n",
              "1       10.34  1.66    Male     No  Sun  Dinner  three       16.054159\n",
              "2       21.01  3.50    Male     No  Sun  Dinner  three       16.658734\n",
              "3       23.68  3.31    Male     No  Sun  Dinner    two       13.978041\n",
              "4       24.59  3.61  Female     No  Sun  Dinner   four       14.680765"
            ]
          },
          "execution_count": 43,
          "metadata": {},
          "output_type": "execute_result"
        }
      ],
      "source": [
        "tips['tip_percentage'] = (tips['tip']/tips['total_bill'])*100\n",
        "tips.head()"
      ]
    }
  ],
  "metadata": {
    "colab": {
      "provenance": []
    },
    "kernelspec": {
      "display_name": "Python 3",
      "language": "python",
      "name": "python3"
    },
    "language_info": {
      "codemirror_mode": {
        "name": "ipython",
        "version": 3
      },
      "file_extension": ".py",
      "mimetype": "text/x-python",
      "name": "python",
      "nbconvert_exporter": "python",
      "pygments_lexer": "ipython3",
      "version": "3.11.9"
    }
  },
  "nbformat": 4,
  "nbformat_minor": 5
}
