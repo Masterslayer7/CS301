{
  "cells": [
    {
      "cell_type": "markdown",
      "metadata": {
        "id": "GTxm9l6E8mRd"
      },
      "source": [
        "## What is Pandas?"
      ]
    },
    {
      "cell_type": "markdown",
      "metadata": {
        "id": "g3QqEKOJPgGS"
      },
      "source": [
        "Pandas is a popular open-source data manipulation and analysis library for Python. It provides data structures for efficiently storing and manipulating large datasets, along with functions for reading and writing data in different file formats. The primary data structures in pandas are:\n",
        "\n",
        "1. **Series:** One-dimensional labeled array capable of holding any data type. It is similar to a **column** in a spreadsheet or a single column in a DataFrame.\n",
        "\n",
        "2. **DataFrame:** A two-dimensional table with labeled axes (rows and columns). It is the primary data structure used in pandas and can be thought of as a container for Series objects.\n",
        "\n",
        "Some key features and functionalities of pandas include:\n",
        "\n",
        "- **Integration with NumPy:** Pandas is built on top of the NumPy library, which provides high-performance numerical operations. This integration allows for seamless interaction between NumPy and pandas.\n",
        "\n",
        "- **Data I/O:** Pandas supports various file formats, including CSV, Excel, SQL databases, and more, making it easy to import and export data.\n",
        "\n",
        "- **Data Exploration:** It allows for easy data exploration and manipulation, such as filtering, grouping, and aggregating data.\n",
        "\n",
        "- **Data Cleaning:** Pandas provides functions to handle missing data, duplicate values, and other common data cleaning tasks.\n",
        "\n",
        "- **Time Series Data:** It has robust support for working with time series data, making it suitable for analyzing temporal data.\n",
        "\n"
      ]
    },
    {
      "cell_type": "markdown",
      "metadata": {
        "deletable": true,
        "editable": true,
        "id": "eiydvvvoEX9a"
      },
      "source": [
        "## Series"
      ]
    },
    {
      "cell_type": "markdown",
      "metadata": {
        "id": "T1aZPoaCQPP9"
      },
      "source": [
        "A series is a one dimensional array-like object that contains a sequence of values with associated labels, called **index**. All item in a series contains the same type of data which is similar to numpy's **homogenous property**. Here are several ways to create a Series in pandas:\n",
        "\n",
        "1. **From a List:**\n",
        "   You can create a Series from a Python list.\n",
        "\n",
        "    ```python\n",
        "    import pandas as pd\n",
        "    data_list = [1, 2, 3, 4, 5]\n",
        "    series_from_list = pd.Series(data_list)\n",
        "    ```\n",
        "\n",
        "2. **From a NumPy Array:**\n",
        "   Pandas Series can be created from a NumPy array.\n",
        "\n",
        "    ```python\n",
        "    import pandas as pd\n",
        "    import numpy as np\n",
        "    data_array = np.array([1, 2, 3, 4, 5])\n",
        "    series_from_array = pd.Series(data_array)\n",
        "    ```\n",
        "\n",
        "3. **From a Dictionary:**\n",
        "   Keys of the dictionary become the index of the Series, and values become the data.\n",
        "\n",
        "    ```python\n",
        "    import pandas as pd\n",
        "    data_dict = {'a': 1, 'b': 2, 'c': 3, 'd': 4, 'e': 5}\n",
        "    series_from_dict = pd.Series(data_dict)\n",
        "    ```\n",
        "\n",
        "**Specifying Index:**\n",
        "\n",
        "When you create a pandas Series from a list-like object, by default, it is assigned a numerical index. However, if you wish to customize the index labels for better identification, you can do so by using the `index` parameter. This parameter allows you to explicitly specify the index labels you want associated with each element in the Series.\n",
        "\n",
        "For instance, consider the following code:\n",
        "\n",
        "```python\n",
        "import pandas as pd\n",
        "\n",
        "# Sample data\n",
        "data = [10, 20, 30, 40, 50]\n",
        "\n",
        "# Default Series with numerical index\n",
        "default_series = pd.Series(data)\n",
        "\n",
        "# Creating a Series with a custom index\n",
        "custom_index = ['a', 'b', 'c', 'd', 'e']\n",
        "series_with_index = pd.Series(data, index=custom_index)\n",
        "```\n",
        "\n",
        "In the `default_series`, the default numerical index will be assigned. However, in `series_with_index`, we use the `index` parameter to specify a custom index, resulting in a Series where each element is associated with a label ('a', 'b', 'c', 'd', 'e') for easier reference and interpretation."
      ]
    },
    {
      "cell_type": "code",
      "execution_count": 7,
      "metadata": {},
      "outputs": [
        {
          "name": "stdout",
          "output_type": "stream",
          "text": [
            "0    1\n",
            "1    2\n",
            "2    3\n",
            "3    4\n",
            "4    5\n",
            "dtype: int64\n",
            "a    1\n",
            "b    2\n",
            "c    3\n",
            "d    4\n",
            "e    5\n",
            "dtype: int64\n"
          ]
        }
      ],
      "source": [
        "import pandas as pd\n",
        "data_list = [1, 2, 3, 4, 5]\n",
        "series_from_list = pd.Series(data_list)\n",
        "\n",
        "data_dict = {'a': 1, 'b': 2, 'c': 3, 'd': 4, 'e': 5}\n",
        "series_from_dict = pd.Series(data_dict)\n",
        "\n",
        "print(series_from_list)\n",
        "print(series_from_dict)"
      ]
    },
    {
      "cell_type": "code",
      "execution_count": 9,
      "metadata": {},
      "outputs": [
        {
          "name": "stdout",
          "output_type": "stream",
          "text": [
            "a    10\n",
            "b    20\n",
            "c    30\n",
            "d    40\n",
            "e    50\n",
            "dtype: int64\n"
          ]
        }
      ],
      "source": [
        "#Custom Index\n",
        "import pandas as pd\n",
        "\n",
        "# Sample data\n",
        "data = [10, 20, 30, 40, 50]\n",
        "\n",
        "# Default Series with numerical index\n",
        "default_series = pd.Series(data)\n",
        "\n",
        "# Creating a Series with a custom index\n",
        "custom_index = ['a', 'b', 'c', 'd', 'e']\n",
        "series_with_index = pd.Series(data, index=custom_index)\n",
        "\n",
        "print(series_with_index)"
      ]
    },
    {
      "cell_type": "markdown",
      "metadata": {
        "id": "uMvw4DMRd2iG"
      },
      "source": [
        "### Accessing Items of a Series"
      ]
    },
    {
      "cell_type": "markdown",
      "metadata": {
        "id": "FHTWOR6dY9Am"
      },
      "source": [
        "1. **Accessing by Index:** You can access elements in a Series using the index label.\n",
        "\n",
        "   ```python\n",
        "   import pandas as pd\n",
        "   series = pd.Series([10, 20, 30], index=['a', 'b', 'c'])\n",
        "   item_a = series['a']\n",
        "   ```\n",
        "\n",
        "2. **Accessing by Position (Integer Indexing):** You can retrieve elements by their integer positions using `iloc`, which functions similarly to selecting items based on their index positions in a Python list.\n",
        "\n",
        "   ```python\n",
        "   # Accessing by integer position\n",
        "   item_0 = series.iloc[0]\n",
        "   ```\n",
        "\n",
        "3. **Slicing:** You can use slicing to select multiple items based on their positions.\n",
        "\n",
        "   ```python\n",
        "   # Slicing by integer positions\n",
        "   sliced_series = series[1:3]\n",
        "   ```\n",
        "\n",
        "4. **Boolean Indexing:** You can use boolean indexing to select items based on a condition.\n",
        "\n",
        "   ```python\n",
        "   # Boolean indexing\n",
        "   condition = series > 15\n",
        "   filtered_series = series[condition]\n",
        "   ```\n",
        "\n",
        "5. **Fancy Indexing:** You can use a list of labels or positions for selection.\n",
        "\n",
        "   ```python\n",
        "   # Fancy indexing\n",
        "   items = series[['a', 'c']]\n",
        "   ```"
      ]
    },
    {
      "cell_type": "markdown",
      "metadata": {
        "id": "i6XieFcrdTPl"
      },
      "source": [
        "## DataFrame"
      ]
    },
    {
      "cell_type": "markdown",
      "metadata": {
        "deletable": true,
        "editable": true,
        "id": "nLGN31DkEX9o"
      },
      "source": [
        "Pandas DataFrame is a 2 dimensional data structure with rows and columns. It is similar to a google sheet or excel file with more than one column. Here are several ways you can create a DataFrame in pandas:\n",
        "\n",
        "1. **From a Dictionary of Lists:**\n",
        "   You can create a DataFrame from a dictionary where keys are column names and values are lists.\n",
        "\n",
        "    ```python\n",
        "    import pandas as pd\n",
        "    data_dict = {'Name': ['Alice', 'Bob', 'Charlie'],\n",
        "                 'Age': [25, 30, 35],\n",
        "                 'City': ['New York', 'San Francisco', 'Los Angeles']}\n",
        "    df = pd.DataFrame(data_dict)\n",
        "    ```\n",
        "\n",
        "2. **From a List of Lists:**\n",
        "   Create a DataFrame directly from a list of lists. The inner lists represent rows.\n",
        "\n",
        "    ```python\n",
        "    import pandas as pd\n",
        "    data_list = [['Alice', 25, 'New York'],\n",
        "                 ['Bob', 30, 'San Francisco'],\n",
        "                 ['Charlie', 35, 'Los Angeles']]\n",
        "    df = pd.DataFrame(data_list, columns=['Name', 'Age', 'City'])\n",
        "    ```\n",
        "\n",
        "3. **From a List of Dictionaries:**\n",
        "   If your data is in the form of a list of dictionaries, each dictionary represents a row.\n",
        "\n",
        "    ```python\n",
        "    import pandas as pd\n",
        "    data_list_of_dicts = [{'Name': 'Alice', 'Age': 25, 'City': 'New York'},\n",
        "                          {'Name': 'Bob', 'Age': 30, 'City': 'San Francisco'},\n",
        "                          {'Name': 'Charlie', 'Age': 35, 'City': 'Los Angeles'}]\n",
        "    df = pd.DataFrame(data_list_of_dicts)\n",
        "    ```\n",
        "\n",
        "4. **From a NumPy Array:**\n",
        "   You can create a DataFrame from a NumPy array and specify column names.\n",
        "\n",
        "    ```python\n",
        "    import pandas as pd\n",
        "    import numpy as np\n",
        "    data_array = np.array([[1, 2, 3],\n",
        "                           [4, 5, 6],\n",
        "                           [7, 8, 9]])\n",
        "    df = pd.DataFrame(data_array, columns=['A', 'B', 'C'])\n",
        "    ```\n",
        "\n",
        "5. **From a CSV File:**\n",
        "   Read data from a CSV file and create a DataFrame.\n",
        "  [(Download Irish Dataset)](https://drive.google.com/file/d/1ttfIhaEbk-QmMhM9Ie5YLEW9kozECkbc/view?usp=sharing)\n",
        "\n",
        "    ```python\n",
        "    import pandas as pd\n",
        "    df = pd.read_csv('iris.csv')\n",
        "    ```"
      ]
    },
    {
      "cell_type": "markdown",
      "metadata": {
        "id": "x3VubZzDRH2c"
      },
      "source": [
        "### Accessing Columns of a Dataframe"
      ]
    },
    {
      "cell_type": "markdown",
      "metadata": {
        "id": "GcHy_DmyZQiP"
      },
      "source": [
        "1. **Using Bracket Notation:**\n",
        "   ```python\n",
        "   # Selecting a single column\n",
        "   column_data = df['column_name']\n",
        "   # Selecting multiple columns\n",
        "   selected_columns = df[['column_name1', 'column_name2']]\n",
        "   ```\n",
        "\n",
        "2. **Using Dot Notation (if column names are valid Python identifiers):**\n",
        "   ```python\n",
        "   # Selecting a single column\n",
        "   column_data = df.column_name\n",
        "   # Note: This method is not suitable if column names have spaces or special characters.\n",
        "   ```\n",
        "3. **Selecting Columns by Data Type:**\n",
        "   ```python\n",
        "   # Selecting columns of a specific data type (e.g., numerical columns)\n",
        "   selected_columns = df.select_dtypes(include='number')\n",
        "   ```\n",
        "\n",
        "\n",
        "4. **Filtering Columns by Name:**\n",
        "   ```python\n",
        "   # Selecting columns with names containing a substring\n",
        "   selected_columns = df.filter(like='partial_column_name')\n",
        "   ```\n",
        "\n"
      ]
    },
    {
      "cell_type": "code",
      "execution_count": 10,
      "metadata": {
        "id": "qR-5cEG9LoBY"
      },
      "outputs": [
        {
          "name": "stdout",
          "output_type": "stream",
          "text": [
            "row1      Alice\n",
            "row2        Bob\n",
            "row3    Charlie\n",
            "row4      David\n",
            "row5       Emma\n",
            "Name: Name, dtype: object\n"
          ]
        },
        {
          "data": {
            "text/html": [
              "<div>\n",
              "<style scoped>\n",
              "    .dataframe tbody tr th:only-of-type {\n",
              "        vertical-align: middle;\n",
              "    }\n",
              "\n",
              "    .dataframe tbody tr th {\n",
              "        vertical-align: top;\n",
              "    }\n",
              "\n",
              "    .dataframe thead th {\n",
              "        text-align: right;\n",
              "    }\n",
              "</style>\n",
              "<table border=\"1\" class=\"dataframe\">\n",
              "  <thead>\n",
              "    <tr style=\"text-align: right;\">\n",
              "      <th></th>\n",
              "      <th>Name</th>\n",
              "      <th>Age</th>\n",
              "      <th>Score</th>\n",
              "      <th>City</th>\n",
              "    </tr>\n",
              "  </thead>\n",
              "  <tbody>\n",
              "    <tr>\n",
              "      <th>row1</th>\n",
              "      <td>Alice</td>\n",
              "      <td>25</td>\n",
              "      <td>85</td>\n",
              "      <td>New York</td>\n",
              "    </tr>\n",
              "    <tr>\n",
              "      <th>row2</th>\n",
              "      <td>Bob</td>\n",
              "      <td>30</td>\n",
              "      <td>92</td>\n",
              "      <td>San Francisco</td>\n",
              "    </tr>\n",
              "    <tr>\n",
              "      <th>row3</th>\n",
              "      <td>Charlie</td>\n",
              "      <td>22</td>\n",
              "      <td>78</td>\n",
              "      <td>Los Angeles</td>\n",
              "    </tr>\n",
              "    <tr>\n",
              "      <th>row4</th>\n",
              "      <td>David</td>\n",
              "      <td>35</td>\n",
              "      <td>95</td>\n",
              "      <td>Chicago</td>\n",
              "    </tr>\n",
              "    <tr>\n",
              "      <th>row5</th>\n",
              "      <td>Emma</td>\n",
              "      <td>28</td>\n",
              "      <td>89</td>\n",
              "      <td>Boston</td>\n",
              "    </tr>\n",
              "  </tbody>\n",
              "</table>\n",
              "</div>"
            ],
            "text/plain": [
              "         Name  Age  Score           City\n",
              "row1    Alice   25     85       New York\n",
              "row2      Bob   30     92  San Francisco\n",
              "row3  Charlie   22     78    Los Angeles\n",
              "row4    David   35     95        Chicago\n",
              "row5     Emma   28     89         Boston"
            ]
          },
          "metadata": {},
          "output_type": "display_data"
        }
      ],
      "source": [
        "import pandas as pd\n",
        "\n",
        "data = {\n",
        "    'Name': ['Alice', 'Bob', 'Charlie', 'David', 'Emma'],\n",
        "    'Age': [25, 30, 22, 35, 28],\n",
        "    'Score': [85, 92, 78, 95, 89],\n",
        "    'City': ['New York', 'San Francisco', 'Los Angeles', 'Chicago', 'Boston']\n",
        "}\n",
        "\n",
        "df = pd.DataFrame(data, index=['row1', 'row2', 'row3', 'row4', 'row5'])\n",
        "\n",
        "print(df['Name'])\n",
        "display(df)"
      ]
    },
    {
      "cell_type": "markdown",
      "metadata": {
        "id": "Txl0snkpnq44"
      },
      "source": [
        "### Accessing Rows of a Dataframe"
      ]
    },
    {
      "cell_type": "markdown",
      "metadata": {
        "id": "T9v39KkVm5aT"
      },
      "source": [
        "   - **Integer Indexing (`iloc`):** Select a specific item by providing integer positions.\n",
        "     ```python\n",
        "     # Selecting a single row by index\n",
        "     row = df.iloc[2]\n",
        "\n",
        "     # Selecting multiple rows by index\n",
        "     rows = df.iloc[2:5]  # selects rows 2 through 4\n",
        "     ```\n",
        "\n",
        "   - **Label Indexing (`loc`):** Select a specific item by providing row label.\n",
        "     ```python\n",
        "     # Selecting a single row by label\n",
        "     row = df.loc['row_label']\n",
        "\n",
        "     # Selecting multiple rows by label\n",
        "     rows = df.loc['row_label_1':'row_label_3']\n",
        "     ```\n",
        "\n",
        "   - **Conditional Selection:** Select items that satisfy a condition.\n",
        "     ```python\n",
        "     # Selecting rows based on a condition\n",
        "     condition = df['column_name'] > 50\n",
        "     selected_rows = df[condition]\n",
        "     ```\n",
        "\n",
        "   - **Selecting Rows with Specific Values of a column:**\n",
        "     ```python\n",
        "     # Selecting rows with specific values in a column\n",
        "     selected_rows = df[df['column_name'].isin(['value1', 'value2'])]\n",
        "     ```"
      ]
    },
    {
      "cell_type": "code",
      "execution_count": 15,
      "metadata": {
        "id": "QJKg8E8mnTVF"
      },
      "outputs": [
        {
          "name": "stdout",
          "output_type": "stream",
          "text": [
            "Name        Alice\n",
            "Age            25\n",
            "Score          85\n",
            "City     New York\n",
            "Name: row1, dtype: object\n"
          ]
        }
      ],
      "source": [
        "import pandas as pd\n",
        "\n",
        "data = {\n",
        "    'Name': ['Alice', 'Bob', 'Charlie', 'David', 'Emma'],\n",
        "    'Age': [25, 30, 22, 35, 28],\n",
        "    'Score': [85, 92, 78, 95, 89],\n",
        "    'City': ['New York', 'San Francisco', 'Los Angeles', 'Chicago', 'Boston']\n",
        "}\n",
        "\n",
        "df = pd.DataFrame(data, index=['row1', 'row2', 'row3', 'row4', 'row5'])\n",
        "\n",
        "print(df.loc['row1'])"
      ]
    },
    {
      "cell_type": "markdown",
      "metadata": {
        "id": "oWacUtWiSP5A"
      },
      "source": [
        "### Accessing Cells"
      ]
    },
    {
      "cell_type": "markdown",
      "metadata": {
        "id": "TFC8nG4PSnHj"
      },
      "source": [
        "1. **Using `loc` with Row and Column Labels:** Select specific rows and columns by providing labels.\n",
        "\n",
        "    ```python\n",
        "    import pandas as pd\n",
        "    # Assuming 'df' is your DataFrame\n",
        "    selected_data = df.loc[['row1', 'row2'], ['col1', 'col2']]\n",
        "    ```\n",
        "\n",
        "2. **Using `iloc` with Integer Positions:** Select specific rows and columns by providing integer positions.\n",
        "\n",
        "    ```python\n",
        "    import pandas as pd\n",
        "    # Assuming 'df' is your DataFrame\n",
        "    selected_data = df.iloc[[0, 1], [0, 1]]\n",
        "    ```\n",
        "   Here, replace 0, 1 with the actual integer positions of rows and columns you want to select.\n",
        "\n",
        "3. **Selecting a Range of Rows and Columns:** You can also use slices with `loc` and `iloc` to select ranges of rows and columns.\n",
        "\n",
        "    ```python\n",
        "    import pandas as pd\n",
        "    # Using loc\n",
        "    selected_data_loc = df.loc['start_row':'end_row', 'start_col':'end_col']\n",
        "    # Using iloc\n",
        "    selected_data_iloc = df.iloc[start_row_position:end_row_position, start_col_position:end_col_position]\n",
        "    ```"
      ]
    },
    {
      "cell_type": "code",
      "execution_count": 17,
      "metadata": {
        "id": "wEJoWhb8LtC3"
      },
      "outputs": [
        {
          "name": "stdout",
          "output_type": "stream",
          "text": [
            "      Age\n",
            "row2   30\n"
          ]
        }
      ],
      "source": [
        "import pandas as pd\n",
        "\n",
        "data = {\n",
        "    'Name': ['Alice', 'Bob', 'Charlie', 'David', 'Emma'],\n",
        "    'Age': [25, 30, 22, 35, 28],\n",
        "    'Score': [85, 92, 78, 95, 89],\n",
        "    'City': ['New York', 'San Francisco', 'Los Angeles', 'Chicago', 'Boston']\n",
        "}\n",
        "\n",
        "df = pd.DataFrame(data, index=['row1', 'row2', 'row3', 'row4', 'row5'])\n",
        "\n",
        "print(df.loc[['row2'], ['Age']])"
      ]
    },
    {
      "cell_type": "markdown",
      "metadata": {
        "id": "EwF6Z28RFuLn"
      },
      "source": [
        "### Renaming Columns"
      ]
    },
    {
      "cell_type": "markdown",
      "metadata": {
        "id": "aROderBHF0ZU"
      },
      "source": [
        "In pandas, you can rename columns using the `rename` method or by directly assigning new column names to the `columns` attribute. Here are both methods:\n",
        "\n",
        "#### 1. Using `rename` method:\n",
        "\n",
        "```python\n",
        "import pandas as pd\n",
        "# Sample DataFrame\n",
        "data = {'A': [1, 2, 3], 'B': [4, 5, 6]}\n",
        "df = pd.DataFrame(data)\n",
        "\n",
        "# Rename columns using the 'rename' method\n",
        "df.rename(columns={'A': 'X', 'B': 'Y'}, inplace=True)\n",
        "```\n",
        "\n",
        "In the example above, the `rename` method is used with a dictionary to specify the mapping of old column names to new column names. The `inplace=True` argument modifies the original DataFrame in place.\n",
        "\n",
        "#### 2. Directly assigning new column names:\n",
        "\n",
        "```python\n",
        "import pandas as pd\n",
        "# Sample DataFrame\n",
        "data = {'A': [1, 2, 3], 'B': [4, 5, 6]}\n",
        "df = pd.DataFrame(data)\n",
        "\n",
        "# Assign new column names directly to the 'columns' attribute\n",
        "df.columns = ['X', 'Y']\n",
        "```"
      ]
    },
    {
      "cell_type": "markdown",
      "metadata": {
        "id": "rJIajwleGmE0"
      },
      "source": [
        "### Renaming Indices"
      ]
    },
    {
      "cell_type": "markdown",
      "metadata": {
        "id": "k-yo2WFpGn_x"
      },
      "source": [
        "In pandas, you can rename indices using the `rename` method. Here's an example of how you can do this:\n",
        "\n",
        "```python\n",
        "import pandas as pd\n",
        "# Create a sample DataFrame\n",
        "data = {'A': [1, 2, 3], 'B': [4, 5, 6]}\n",
        "df = pd.DataFrame(data, index=['X', 'Y', 'Z'])\n",
        "\n",
        "# Rename the indices using the rename method\n",
        "new_indices = {'X': 'W', 'Y': 'V', 'Z': 'U'}\n",
        "df_renamed = df.rename(index=new_indices)\n",
        "\n",
        "```\n",
        "\n",
        "In this example, the `rename` method is used with the `index` parameter to rename the indices. The `new_indices` dictionary specifies the mapping between the old index values and the new ones."
      ]
    },
    {
      "cell_type": "markdown",
      "metadata": {
        "id": "To226c7YDimz"
      },
      "source": [
        "## Some Useful Functions in Pandas"
      ]
    },
    {
      "cell_type": "markdown",
      "metadata": {
        "id": "jZXee9WgEIJ_"
      },
      "source": [
        "- `df.mean()`: Compute the mean of each column.\n",
        "- `df.median()`: Compute the median of each column.\n",
        "- `df.mode()`: Compute the mode of each column.\n",
        "\n",
        "- `df.std()`: Compute the standard deviation of each column.\n",
        "- `df.var()`: Compute the variance of each column.\n",
        "- `df.min()` and `df.max()`: Compute the minimum and maximum values of each column.\n",
        "\n",
        "- `df.quantile(q)`: Compute the qth quantile of each column.\n",
        "- `df.describe()`: Generate descriptive statistics, including quartiles.\n",
        "\n",
        "\n",
        "- `df + scalar`: Add a scalar to each element in the DataFrame.\n",
        "- `df - scalar`: Subtract a scalar from each element.\n",
        "- `df * scalar`: Multiply each element by a scalar.\n",
        "- `df / scalar`: Divide each element by a scalar.\n",
        "\n",
        "\n",
        "- `df.groupby('column').mean()`: Compute the mean for each group.\n",
        "- `df.column.value_counts()`: Returns a new Series containing counts of unique values\n",
        "\n",
        "- `df.corr()`: Compute pairwise correlation between columns.\n",
        "\n",
        "- `df.cov()`: Compute pairwise covariance between columns.\n",
        "\n",
        "- `df.sample(n)`: Return a random sample of items from an axis.\n",
        "- `df.apply(function)`: Apply a function to each element, row, or column in the DataFrame.\n",
        "- `df['column'].apply(function)`: Apply a function to each element of the specified column."
      ]
    },
    {
      "cell_type": "code",
      "execution_count": 19,
      "metadata": {
        "id": "_XrRaaEqsRIZ"
      },
      "outputs": [
        {
          "data": {
            "text/html": [
              "<div>\n",
              "<style scoped>\n",
              "    .dataframe tbody tr th:only-of-type {\n",
              "        vertical-align: middle;\n",
              "    }\n",
              "\n",
              "    .dataframe tbody tr th {\n",
              "        vertical-align: top;\n",
              "    }\n",
              "\n",
              "    .dataframe thead th {\n",
              "        text-align: right;\n",
              "    }\n",
              "</style>\n",
              "<table border=\"1\" class=\"dataframe\">\n",
              "  <thead>\n",
              "    <tr style=\"text-align: right;\">\n",
              "      <th></th>\n",
              "      <th>Product</th>\n",
              "      <th>Region</th>\n",
              "      <th>Sales</th>\n",
              "    </tr>\n",
              "  </thead>\n",
              "  <tbody>\n",
              "    <tr>\n",
              "      <th>0</th>\n",
              "      <td>A</td>\n",
              "      <td>North</td>\n",
              "      <td>150</td>\n",
              "    </tr>\n",
              "    <tr>\n",
              "      <th>1</th>\n",
              "      <td>A</td>\n",
              "      <td>North</td>\n",
              "      <td>200</td>\n",
              "    </tr>\n",
              "    <tr>\n",
              "      <th>2</th>\n",
              "      <td>A</td>\n",
              "      <td>South</td>\n",
              "      <td>120</td>\n",
              "    </tr>\n",
              "    <tr>\n",
              "      <th>3</th>\n",
              "      <td>B</td>\n",
              "      <td>South</td>\n",
              "      <td>180</td>\n",
              "    </tr>\n",
              "    <tr>\n",
              "      <th>4</th>\n",
              "      <td>A</td>\n",
              "      <td>North</td>\n",
              "      <td>160</td>\n",
              "    </tr>\n",
              "    <tr>\n",
              "      <th>5</th>\n",
              "      <td>B</td>\n",
              "      <td>South</td>\n",
              "      <td>220</td>\n",
              "    </tr>\n",
              "    <tr>\n",
              "      <th>6</th>\n",
              "      <td>A</td>\n",
              "      <td>North</td>\n",
              "      <td>140</td>\n",
              "    </tr>\n",
              "    <tr>\n",
              "      <th>7</th>\n",
              "      <td>B</td>\n",
              "      <td>South</td>\n",
              "      <td>190</td>\n",
              "    </tr>\n",
              "  </tbody>\n",
              "</table>\n",
              "</div>"
            ],
            "text/plain": [
              "  Product Region  Sales\n",
              "0       A  North    150\n",
              "1       A  North    200\n",
              "2       A  South    120\n",
              "3       B  South    180\n",
              "4       A  North    160\n",
              "5       B  South    220\n",
              "6       A  North    140\n",
              "7       B  South    190"
            ]
          },
          "execution_count": 19,
          "metadata": {},
          "output_type": "execute_result"
        }
      ],
      "source": [
        "import pandas as pd\n",
        "\n",
        "# Sample DataFrame\n",
        "data = {\n",
        "    'Product': ['A', 'A', 'A', 'B', 'A', 'B', 'A', 'B'],\n",
        "    'Region': ['North', 'North', 'South', 'South', 'North', 'South', 'North', 'South'],\n",
        "    'Sales': [150, 200, 120, 180, 160, 220, 140, 190]\n",
        "}\n",
        "df = pd.DataFrame(data)\n",
        "df"
      ]
    },
    {
      "cell_type": "code",
      "execution_count": 31,
      "metadata": {
        "id": "tEDS8u5tS62B"
      },
      "outputs": [
        {
          "name": "stdout",
          "output_type": "stream",
          "text": [
            "<pandas.core.groupby.generic.DataFrameGroupBy object at 0x00000169CA483520>\n"
          ]
        }
      ],
      "source": [
        "# Group the DataFrame by the 'Product' column, creating a GroupBy object\n",
        "grouped_df = df.groupby(['Product'])\n",
        "print(grouped_df)"
      ]
    },
    {
      "cell_type": "code",
      "execution_count": 25,
      "metadata": {
        "id": "A5_YFXiYQi3U"
      },
      "outputs": [
        {
          "name": "stdout",
          "output_type": "stream",
          "text": [
            "B\n"
          ]
        }
      ],
      "source": [
        "# Find the product with the highest average sales\n",
        "product_with_highest_avg_sales = grouped_df['Sales'].mean().idxmax()\n",
        "print(product_with_highest_avg_sales)"
      ]
    },
    {
      "cell_type": "code",
      "execution_count": 22,
      "metadata": {
        "id": "8AYAHDmjuErz"
      },
      "outputs": [
        {
          "data": {
            "text/plain": [
              "Product\n",
              "A    5\n",
              "B    3\n",
              "Name: count, dtype: int64"
            ]
          },
          "execution_count": 22,
          "metadata": {},
          "output_type": "execute_result"
        }
      ],
      "source": [
        "# Count the number of occurrences of each unique value in the 'Product' column\n",
        "df.Product.value_counts()"
      ]
    },
    {
      "cell_type": "code",
      "execution_count": 21,
      "metadata": {
        "id": "tyCQsaXoS8a2"
      },
      "outputs": [
        {
          "data": {
            "text/html": [
              "<div>\n",
              "<style scoped>\n",
              "    .dataframe tbody tr th:only-of-type {\n",
              "        vertical-align: middle;\n",
              "    }\n",
              "\n",
              "    .dataframe tbody tr th {\n",
              "        vertical-align: top;\n",
              "    }\n",
              "\n",
              "    .dataframe thead th {\n",
              "        text-align: right;\n",
              "    }\n",
              "</style>\n",
              "<table border=\"1\" class=\"dataframe\">\n",
              "  <thead>\n",
              "    <tr style=\"text-align: right;\">\n",
              "      <th></th>\n",
              "      <th>Product</th>\n",
              "      <th>Region</th>\n",
              "      <th>Sales</th>\n",
              "      <th>Sales_With_Tax</th>\n",
              "    </tr>\n",
              "  </thead>\n",
              "  <tbody>\n",
              "    <tr>\n",
              "      <th>0</th>\n",
              "      <td>A</td>\n",
              "      <td>North</td>\n",
              "      <td>150</td>\n",
              "      <td>165.0</td>\n",
              "    </tr>\n",
              "    <tr>\n",
              "      <th>1</th>\n",
              "      <td>A</td>\n",
              "      <td>North</td>\n",
              "      <td>200</td>\n",
              "      <td>220.0</td>\n",
              "    </tr>\n",
              "    <tr>\n",
              "      <th>2</th>\n",
              "      <td>A</td>\n",
              "      <td>South</td>\n",
              "      <td>120</td>\n",
              "      <td>132.0</td>\n",
              "    </tr>\n",
              "    <tr>\n",
              "      <th>3</th>\n",
              "      <td>B</td>\n",
              "      <td>South</td>\n",
              "      <td>180</td>\n",
              "      <td>198.0</td>\n",
              "    </tr>\n",
              "    <tr>\n",
              "      <th>4</th>\n",
              "      <td>A</td>\n",
              "      <td>North</td>\n",
              "      <td>160</td>\n",
              "      <td>176.0</td>\n",
              "    </tr>\n",
              "    <tr>\n",
              "      <th>5</th>\n",
              "      <td>B</td>\n",
              "      <td>South</td>\n",
              "      <td>220</td>\n",
              "      <td>242.0</td>\n",
              "    </tr>\n",
              "    <tr>\n",
              "      <th>6</th>\n",
              "      <td>A</td>\n",
              "      <td>North</td>\n",
              "      <td>140</td>\n",
              "      <td>154.0</td>\n",
              "    </tr>\n",
              "    <tr>\n",
              "      <th>7</th>\n",
              "      <td>B</td>\n",
              "      <td>South</td>\n",
              "      <td>190</td>\n",
              "      <td>209.0</td>\n",
              "    </tr>\n",
              "  </tbody>\n",
              "</table>\n",
              "</div>"
            ],
            "text/plain": [
              "  Product Region  Sales  Sales_With_Tax\n",
              "0       A  North    150           165.0\n",
              "1       A  North    200           220.0\n",
              "2       A  South    120           132.0\n",
              "3       B  South    180           198.0\n",
              "4       A  North    160           176.0\n",
              "5       B  South    220           242.0\n",
              "6       A  North    140           154.0\n",
              "7       B  South    190           209.0"
            ]
          },
          "execution_count": 21,
          "metadata": {},
          "output_type": "execute_result"
        }
      ],
      "source": [
        "# Applying a function to each element in the 'Sales' column\n",
        "df['Sales_With_Tax'] = df['Sales'].apply(lambda x: x * 1.1)\n",
        "df"
      ]
    }
  ],
  "metadata": {
    "colab": {
      "collapsed_sections": [
        "GTxm9l6E8mRd",
        "eiydvvvoEX9a",
        "uMvw4DMRd2iG",
        "i6XieFcrdTPl",
        "x3VubZzDRH2c",
        "Txl0snkpnq44",
        "oWacUtWiSP5A",
        "EwF6Z28RFuLn",
        "rJIajwleGmE0",
        "To226c7YDimz"
      ],
      "provenance": []
    },
    "kernelspec": {
      "display_name": "Python 3",
      "language": "python",
      "name": "python3"
    },
    "language_info": {
      "codemirror_mode": {
        "name": "ipython",
        "version": 3
      },
      "file_extension": ".py",
      "mimetype": "text/x-python",
      "name": "python",
      "nbconvert_exporter": "python",
      "pygments_lexer": "ipython3",
      "version": "3.9.13"
    }
  },
  "nbformat": 4,
  "nbformat_minor": 0
}
