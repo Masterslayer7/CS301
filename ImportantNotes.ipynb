{
 "cells": [
  {
   "cell_type": "markdown",
   "metadata": {},
   "source": [
    "# Important notes\n",
    "\n",
    "### Data visualization\n",
    "\n",
    "- importnat to have on resume, matplotlib is enough, having a good data visualization project is important\n",
    "- if very complicated, use d3.js \n"
   ]
  },
  {
   "cell_type": "code",
   "execution_count": null,
   "metadata": {},
   "outputs": [],
   "source": []
  }
 ],
 "metadata": {
  "language_info": {
   "name": "python"
  }
 },
 "nbformat": 4,
 "nbformat_minor": 2
}
