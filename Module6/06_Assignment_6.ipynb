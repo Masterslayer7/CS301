{
  "cells": [
    {
      "cell_type": "markdown",
      "metadata": {
        "id": "K2gIS9b55n2p"
      },
      "source": [
        "The objective of this assignment is to assess your understanding of the process of building, training, and evaluating various machine learning models using a medical dataset. This assignment aims to enhance your skills in data preprocessing, model training, performance evaluation, and result visualization, ultimately enabling you to determine which model performs best for predicting heart disease.\n",
        "\n",
        "<h2> Dataset: </h2>\n",
        "\n",
        "Use the `Heart Disease` dataset from this [link](https://drive.google.com/file/d/181O6AUx7naNTXQPYwLb7kC2wYwmHTWAK/view?usp=sharing). This dataset contains information on various medical attributes of patients and whether they have heart disease.\n",
        "\n",
        "### Tasks:\n",
        "1. **Data Preparation: (30 points)**\n",
        "   - Load the Heart Disease dataset.\n",
        "   - Perform any necessary data preprocessing, including handling missing values, encoding categorical variables, and normalizing/standardizing the data if needed.\n",
        "   - Write a short description of your preprocessing steps with justification for your actions. Explain how you handled missing values and why you chose to remove or impute certain values, rows, or columns. Additionally, describe the type of encoding you used for categorical variables and the rationale behind your choices.\n",
        "\n",
        "2. **Data Splitting:(10points)**\n",
        "   - Split the dataset into training and testing sets using `train_test_split` from the `sklearn.model_selection` module. Use an 80-20 split for training and testing, respectively.\n",
        "\n",
        "3. **Model Training:(30points)**\n",
        "   - Initialize and train the following models using the training data:\n",
        "     - Random Forest\n",
        "     - Gradient Boosting\n",
        "     - AdaBoost\n",
        "     - Logistic Regression\n",
        "\n",
        "4. **Model Evaluation:(30points)**\n",
        "   - Evaluate the models on the test data using accuracy score.\n",
        "   - Create a bar chart to visualize the accuracy of each model. The x-axis should have the model names, and the y-axis should represent the accuracy scores.\n",
        "\n",
        "**Complete all of the above tasks, and then submit the notebook on Canvas.**"
      ]
    },
    {
      "cell_type": "markdown",
      "metadata": {
        "id": "0EDhSHWx7Uxi"
      },
      "source": [
        "## Task 1"
      ]
    },
    {
      "cell_type": "code",
      "execution_count": 1,
      "metadata": {
        "id": "vKb4Vr-F7Xap"
      },
      "outputs": [],
      "source": [
        "import pandas as pd\n",
        "from sklearn.model_selection import train_test_split\n",
        "from sklearn.compose import ColumnTransformer\n",
        "from sklearn.pipeline import Pipeline\n",
        "from sklearn.impute import SimpleImputer\n",
        "from sklearn.preprocessing import OneHotEncoder, StandardScaler\n",
        "from sklearn.ensemble import RandomForestClassifier, GradientBoostingClassifier, AdaBoostClassifier\n",
        "from sklearn.linear_model import LogisticRegression\n",
        "import matplotlib.pyplot as plt\n",
        "\n",
        "path = 'HeartDisease.csv'\n",
        "df = pd.read_csv(filepath_or_buffer=path)\n",
        "df.head()\n",
        "\n",
        "\n",
        "# Identify numeric and categorical columns\n",
        "numeric_features = ['Age', 'RestingBP', 'Cholesterol', 'FastingBS', 'Oldpeak', 'MaxHR']\n",
        "categorical_features = ['Sex', 'ChestPainType', 'RestingECG', 'ST_Slope']\n",
        "\n",
        "# Define transformers\n",
        "numeric_transformer = Pipeline(steps=[\n",
        "    ('imputer', SimpleImputer(strategy='median')),\n",
        "    ('scaler', StandardScaler())\n",
        "])\n",
        "\n",
        "categorical_transformer = Pipeline(steps=[\n",
        "    ('imputer', SimpleImputer(strategy='most_frequent')),\n",
        "    ('encoder', OneHotEncoder(handle_unknown='ignore'))\n",
        "])\n",
        "\n",
        "# Create a ColumnTransformer\n",
        "preprocessor = ColumnTransformer(\n",
        "    transformers=[\n",
        "        ('num', numeric_transformer, numeric_features),\n",
        "        ('cat', categorical_transformer, categorical_features)\n",
        "    ]\n",
        ")\n",
        "\n"
      ]
    },
    {
      "cell_type": "markdown",
      "metadata": {
        "id": "VbPWL3_O_yqs"
      },
      "source": [
        "Write your description here:"
      ]
    },
    {
      "cell_type": "markdown",
      "metadata": {
        "id": "GJBSnyTS7WYv"
      },
      "source": [
        "## Task 2"
      ]
    },
    {
      "cell_type": "code",
      "execution_count": 2,
      "metadata": {
        "id": "H7NqNc6G7dqk"
      },
      "outputs": [],
      "source": [
        "# Select features and target variable\n",
        "X = df.drop(columns=['HeartDisease', 'ExerciseAngina'])\n",
        "y = df['HeartDisease']\n",
        "\n",
        "# Split the data into training and testing sets\n",
        "X_train, X_test, y_train, y_test = train_test_split(X, y, test_size=0.2, random_state=42)"
      ]
    },
    {
      "cell_type": "markdown",
      "metadata": {
        "id": "kLOTtikm7aNC"
      },
      "source": [
        "## Task 3"
      ]
    },
    {
      "cell_type": "code",
      "execution_count": 3,
      "metadata": {
        "id": "LODW3QUt7eO5"
      },
      "outputs": [
        {
          "name": "stderr",
          "output_type": "stream",
          "text": [
            "C:\\Users\\yugpa\\AppData\\Local\\Packages\\PythonSoftwareFoundation.Python.3.9_qbz5n2kfra8p0\\LocalCache\\local-packages\\Python39\\site-packages\\sklearn\\ensemble\\_weight_boosting.py:527: FutureWarning: The SAMME.R algorithm (the default) is deprecated and will be removed in 1.6. Use the SAMME algorithm to circumvent this warning.\n",
            "  warnings.warn(\n"
          ]
        },
        {
          "data": {
            "text/html": [
              "<div>\n",
              "<style scoped>\n",
              "    .dataframe tbody tr th:only-of-type {\n",
              "        vertical-align: middle;\n",
              "    }\n",
              "\n",
              "    .dataframe tbody tr th {\n",
              "        vertical-align: top;\n",
              "    }\n",
              "\n",
              "    .dataframe thead th {\n",
              "        text-align: right;\n",
              "    }\n",
              "</style>\n",
              "<table border=\"1\" class=\"dataframe\">\n",
              "  <thead>\n",
              "    <tr style=\"text-align: right;\">\n",
              "      <th></th>\n",
              "      <th>Random Forest</th>\n",
              "      <th>Gradient Boost</th>\n",
              "      <th>Ada Boost</th>\n",
              "      <th>Logestic Regression</th>\n",
              "    </tr>\n",
              "  </thead>\n",
              "  <tbody>\n",
              "    <tr>\n",
              "      <th>0</th>\n",
              "      <td>0</td>\n",
              "      <td>0</td>\n",
              "      <td>0</td>\n",
              "      <td>0</td>\n",
              "    </tr>\n",
              "    <tr>\n",
              "      <th>1</th>\n",
              "      <td>1</td>\n",
              "      <td>1</td>\n",
              "      <td>1</td>\n",
              "      <td>0</td>\n",
              "    </tr>\n",
              "    <tr>\n",
              "      <th>2</th>\n",
              "      <td>1</td>\n",
              "      <td>1</td>\n",
              "      <td>1</td>\n",
              "      <td>1</td>\n",
              "    </tr>\n",
              "    <tr>\n",
              "      <th>3</th>\n",
              "      <td>1</td>\n",
              "      <td>1</td>\n",
              "      <td>1</td>\n",
              "      <td>1</td>\n",
              "    </tr>\n",
              "    <tr>\n",
              "      <th>4</th>\n",
              "      <td>0</td>\n",
              "      <td>0</td>\n",
              "      <td>0</td>\n",
              "      <td>0</td>\n",
              "    </tr>\n",
              "    <tr>\n",
              "      <th>...</th>\n",
              "      <td>...</td>\n",
              "      <td>...</td>\n",
              "      <td>...</td>\n",
              "      <td>...</td>\n",
              "    </tr>\n",
              "    <tr>\n",
              "      <th>179</th>\n",
              "      <td>0</td>\n",
              "      <td>0</td>\n",
              "      <td>0</td>\n",
              "      <td>0</td>\n",
              "    </tr>\n",
              "    <tr>\n",
              "      <th>180</th>\n",
              "      <td>1</td>\n",
              "      <td>1</td>\n",
              "      <td>1</td>\n",
              "      <td>1</td>\n",
              "    </tr>\n",
              "    <tr>\n",
              "      <th>181</th>\n",
              "      <td>1</td>\n",
              "      <td>1</td>\n",
              "      <td>1</td>\n",
              "      <td>1</td>\n",
              "    </tr>\n",
              "    <tr>\n",
              "      <th>182</th>\n",
              "      <td>0</td>\n",
              "      <td>0</td>\n",
              "      <td>0</td>\n",
              "      <td>0</td>\n",
              "    </tr>\n",
              "    <tr>\n",
              "      <th>183</th>\n",
              "      <td>1</td>\n",
              "      <td>1</td>\n",
              "      <td>1</td>\n",
              "      <td>1</td>\n",
              "    </tr>\n",
              "  </tbody>\n",
              "</table>\n",
              "<p>184 rows × 4 columns</p>\n",
              "</div>"
            ],
            "text/plain": [
              "     Random Forest  Gradient Boost  Ada Boost  Logestic Regression\n",
              "0                0               0          0                    0\n",
              "1                1               1          1                    0\n",
              "2                1               1          1                    1\n",
              "3                1               1          1                    1\n",
              "4                0               0          0                    0\n",
              "..             ...             ...        ...                  ...\n",
              "179              0               0          0                    0\n",
              "180              1               1          1                    1\n",
              "181              1               1          1                    1\n",
              "182              0               0          0                    0\n",
              "183              1               1          1                    1\n",
              "\n",
              "[184 rows x 4 columns]"
            ]
          },
          "metadata": {},
          "output_type": "display_data"
        }
      ],
      "source": [
        "# Define the random forest pipeline with preprocessing and model\n",
        "randomForestpipe = Pipeline(steps=[\n",
        "    ('preprocessor', preprocessor),\n",
        "    ('model', RandomForestClassifier())\n",
        "])\n",
        "\n",
        "# Fit the pipeline to the training data\n",
        "randomForestpipe.fit(X_train, y_train)\n",
        "randomforestPredictions = randomForestpipe.predict(X_test) \n",
        "predDf = pd.DataFrame(randomforestPredictions, columns=['Random Forest'])\n",
        "\n",
        "# Define the gradient boosting pipeline with preprocessing and model\n",
        "gradientBoostingPipe = Pipeline(steps=[\n",
        "    ('preprocessor', preprocessor),\n",
        "    ('model', GradientBoostingClassifier())\n",
        "])\n",
        "\n",
        "# Fit the pipeline to the training data\n",
        "gradientBoostingPipe.fit(X_train, y_train)\n",
        "gradBoostPredictions = gradientBoostingPipe.predict(X_test) \n",
        "predDf['Gradient Boost'] = gradBoostPredictions\n",
        "\n",
        "# Define the gradient boosting pipeline with preprocessing and model\n",
        "adaBoostPipe = Pipeline(steps=[\n",
        "    ('preprocessor', preprocessor),\n",
        "    ('model', AdaBoostClassifier())\n",
        "])\n",
        "\n",
        "# Fit the pipeline to the training data\n",
        "adaBoostPipe.fit(X_train, y_train)\n",
        "adaBoostPredictions = adaBoostPipe.predict(X_test) \n",
        "predDf['Ada Boost'] = adaBoostPredictions\n",
        "\n",
        "# Define the gradient boosting pipeline with preprocessing and model\n",
        "logisticPipe = Pipeline(steps=[\n",
        "    ('preprocessor', preprocessor),\n",
        "    ('model', LogisticRegression())\n",
        "])\n",
        "\n",
        "# Fit the pipeline to the training data\n",
        "logisticPipe.fit(X_train, y_train)\n",
        "LogesticPredictions = logisticPipe.predict(X_test) \n",
        "predDf['Logestic Regression'] = LogesticPredictions\n",
        "\n",
        "\n",
        "display(predDf)\n"
      ]
    },
    {
      "cell_type": "markdown",
      "metadata": {
        "id": "RNxrs1YT7bdg"
      },
      "source": [
        "## Task 4"
      ]
    },
    {
      "cell_type": "code",
      "execution_count": 29,
      "metadata": {
        "id": "U70e0q7T7c5p"
      },
      "outputs": [
        {
          "data": {
            "text/html": [
              "<div>\n",
              "<style scoped>\n",
              "    .dataframe tbody tr th:only-of-type {\n",
              "        vertical-align: middle;\n",
              "    }\n",
              "\n",
              "    .dataframe tbody tr th {\n",
              "        vertical-align: top;\n",
              "    }\n",
              "\n",
              "    .dataframe thead th {\n",
              "        text-align: right;\n",
              "    }\n",
              "</style>\n",
              "<table border=\"1\" class=\"dataframe\">\n",
              "  <thead>\n",
              "    <tr style=\"text-align: right;\">\n",
              "      <th></th>\n",
              "      <th>Random Forest</th>\n",
              "      <th>Gradient Boost</th>\n",
              "      <th>Ada Boost</th>\n",
              "      <th>Logestic Regression</th>\n",
              "    </tr>\n",
              "  </thead>\n",
              "  <tbody>\n",
              "    <tr>\n",
              "      <th>0</th>\n",
              "      <td>0.891304</td>\n",
              "      <td>0.880435</td>\n",
              "      <td>0.847826</td>\n",
              "      <td>0.858696</td>\n",
              "    </tr>\n",
              "  </tbody>\n",
              "</table>\n",
              "</div>"
            ],
            "text/plain": [
              "   Random Forest  Gradient Boost  Ada Boost  Logestic Regression\n",
              "0       0.891304        0.880435   0.847826             0.858696"
            ]
          },
          "metadata": {},
          "output_type": "display_data"
        },
        {
          "data": {
            "text/plain": [
              "<BarContainer object of 4 artists>"
            ]
          },
          "execution_count": 29,
          "metadata": {},
          "output_type": "execute_result"
        },
        {
          "data": {
            "image/png": "[encoded data removed]",
            "text/plain": [
              "<Figure size 640x480 with 1 Axes>"
            ]
          },
          "metadata": {},
          "output_type": "display_data"
        }
      ],
      "source": [
        "from sklearn.metrics import accuracy_score\n",
        "import matplotlib.pyplot as plt\n",
        "accuracy_scores = {\n",
        "    'Random Forest': [accuracy_score(predDf['Random Forest'], y_test)],\n",
        "    'Gradient Boost': [accuracy_score(predDf['Gradient Boost'], y_test)],\n",
        "    'Ada Boost': [accuracy_score(predDf['Ada Boost'], y_test)],\n",
        "    'Logestic Regression': [accuracy_score(predDf['Logestic Regression'], y_test)]\n",
        "}\n",
        "accuracy = pd.DataFrame(accuracy_scores)\n",
        "\n",
        "display(accuracy)\n",
        "plt.bar(accuracy.columns, accuracy.iloc[0])"
      ]
    }
  ],
  "metadata": {
    "colab": {
      "provenance": []
    },
    "kernelspec": {
      "display_name": "Python 3",
      "language": "python",
      "name": "python3"
    },
    "language_info": {
      "codemirror_mode": {
        "name": "ipython",
        "version": 3
      },
      "file_extension": ".py",
      "mimetype": "text/x-python",
      "name": "python",
      "nbconvert_exporter": "python",
      "pygments_lexer": "ipython3",
      "version": "3.9.13"
    }
  },
  "nbformat": 4,
  "nbformat_minor": 0
}
