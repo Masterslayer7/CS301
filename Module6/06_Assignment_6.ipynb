{
  "cells": [
    {
      "cell_type": "markdown",
      "metadata": {
        "id": "K2gIS9b55n2p"
      },
      "source": [
        "The objective of this assignment is to assess your understanding of the process of building, training, and evaluating various machine learning models using a medical dataset. This assignment aims to enhance your skills in data preprocessing, model training, performance evaluation, and result visualization, ultimately enabling you to determine which model performs best for predicting heart disease.\n",
        "\n",
        "<h2> Dataset: </h2>\n",
        "\n",
        "Use the `Heart Disease` dataset from this [link](https://drive.google.com/file/d/181O6AUx7naNTXQPYwLb7kC2wYwmHTWAK/view?usp=sharing). This dataset contains information on various medical attributes of patients and whether they have heart disease.\n",
        "\n",
        "### Tasks:\n",
        "1. **Data Preparation: (30 points)**\n",
        "   - Load the Heart Disease dataset.\n",
        "   - Perform any necessary data preprocessing, including handling missing values, encoding categorical variables, and normalizing/standardizing the data if needed.\n",
        "   - Write a short description of your preprocessing steps with justification for your actions. Explain how you handled missing values and why you chose to remove or impute certain values, rows, or columns. Additionally, describe the type of encoding you used for categorical variables and the rationale behind your choices.\n",
        "\n",
        "2. **Data Splitting:(10points)**\n",
        "   - Split the dataset into training and testing sets using `train_test_split` from the `sklearn.model_selection` module. Use an 80-20 split for training and testing, respectively.\n",
        "\n",
        "3. **Model Training:(30points)**\n",
        "   - Initialize and train the following models using the training data:\n",
        "     - Random Forest\n",
        "     - Gradient Boosting\n",
        "     - AdaBoost\n",
        "     - Logistic Regression\n",
        "\n",
        "4. **Model Evaluation:(30points)**\n",
        "   - Evaluate the models on the test data using accuracy score.\n",
        "   - Create a bar chart to visualize the accuracy of each model. The x-axis should have the model names, and the y-axis should represent the accuracy scores.\n",
        "\n",
        "**Complete all of the above tasks, and then submit the notebook on Canvas.**"
      ]
    },
    {
      "cell_type": "markdown",
      "metadata": {
        "id": "0EDhSHWx7Uxi"
      },
      "source": [
        "## Task 1"
      ]
    },
    {
      "cell_type": "code",
      "execution_count": 9,
      "metadata": {
        "id": "vKb4Vr-F7Xap"
      },
      "outputs": [],
      "source": [
        "import pandas as pd\n",
        "from sklearn.model_selection import train_test_split\n",
        "from sklearn.compose import ColumnTransformer\n",
        "from sklearn.pipeline import Pipeline\n",
        "from sklearn.impute import SimpleImputer\n",
        "from sklearn.preprocessing import OneHotEncoder, StandardScaler\n",
        "from sklearn.ensemble import RandomForestRegressor\n",
        "import matplotlib.pyplot as plt\n",
        "\n",
        "path = 'HeartDisease.csv'\n",
        "df = pd.read_csv(filepath_or_buffer=path)\n",
        "df.head()\n",
        "\n",
        "\n",
        "# Identify numeric and categorical columns\n",
        "numeric_features = ['Age', 'RestingBP', 'Cholesterol', 'FastingBS', 'Oldpeak', 'MaxHR']\n",
        "categorical_features = ['Sex', 'ChestPainType', 'RestingECG', 'ST_Slope']\n",
        "\n",
        "# Define transformers\n",
        "numeric_transformer = Pipeline(steps=[\n",
        "    ('imputer', SimpleImputer(strategy='median')),\n",
        "    ('scaler', StandardScaler())\n",
        "])\n",
        "\n",
        "categorical_transformer = Pipeline(steps=[\n",
        "    ('imputer', SimpleImputer(strategy='most_frequent')),\n",
        "    ('encoder', OneHotEncoder(handle_unknown='ignore'))\n",
        "])\n",
        "\n",
        "# Create a ColumnTransformer\n",
        "preprocessor = ColumnTransformer(\n",
        "    transformers=[\n",
        "        ('num', numeric_transformer, numeric_features),\n",
        "        ('cat', categorical_transformer, categorical_features)\n",
        "    ]\n",
        ")\n",
        "\n"
      ]
    },
    {
      "cell_type": "markdown",
      "metadata": {
        "id": "VbPWL3_O_yqs"
      },
      "source": [
        "Write your description here:"
      ]
    },
    {
      "cell_type": "markdown",
      "metadata": {
        "id": "GJBSnyTS7WYv"
      },
      "source": [
        "## Task 2"
      ]
    },
    {
      "cell_type": "code",
      "execution_count": 11,
      "metadata": {
        "id": "H7NqNc6G7dqk"
      },
      "outputs": [],
      "source": [
        "# Select features and target variable\n",
        "X = df.drop(columns=['HeartDisease', 'ExerciseAngina'])\n",
        "y = df['HeartDisease']\n",
        "\n",
        "# Split the data into training and testing sets\n",
        "X_train, X_test, y_train, y_test = train_test_split(X, y, test_size=0.2, random_state=42)"
      ]
    },
    {
      "cell_type": "markdown",
      "metadata": {
        "id": "kLOTtikm7aNC"
      },
      "source": [
        "## Task 3"
      ]
    },
    {
      "cell_type": "code",
      "execution_count": 12,
      "metadata": {
        "id": "LODW3QUt7eO5"
      },
      "outputs": [
        {
          "data": {
            "text/plain": [
              "array([0.16, 0.68, 0.99, 0.99, 0.  , 0.63, 0.85, 0.11, 0.67, 0.91, 0.54,\n",
              "       0.01, 0.81, 0.08, 0.97, 0.88, 0.11, 0.55, 0.92, 0.3 , 0.7 , 0.83,\n",
              "       0.  , 0.47, 0.71, 0.85, 0.  , 0.73, 0.  , 0.  , 0.95, 0.  , 0.57,\n",
              "       0.97, 0.97, 0.43, 0.99, 0.  , 0.81, 0.75, 0.85, 0.82, 0.45, 0.  ,\n",
              "       0.08, 0.59, 0.81, 0.9 , 1.  , 0.23, 0.05, 0.  , 0.95, 0.97, 0.19,\n",
              "       0.05, 0.51, 0.83, 0.56, 0.9 , 0.34, 0.04, 0.  , 0.92, 0.16, 0.96,\n",
              "       1.  , 0.94, 1.  , 0.63, 0.12, 0.  , 0.91, 0.49, 0.07, 0.88, 0.28,\n",
              "       0.72, 0.04, 0.41, 0.73, 0.9 , 0.73, 0.  , 0.93, 0.9 , 0.05, 0.5 ,\n",
              "       0.02, 0.34, 0.34, 0.94, 0.97, 0.  , 0.29, 0.  , 0.88, 0.45, 0.87,\n",
              "       0.82, 0.12, 0.98, 0.72, 0.  , 0.58, 0.76, 0.02, 0.7 , 0.96, 0.01,\n",
              "       0.96, 0.93, 0.05, 0.23, 0.97, 0.34, 0.92, 0.  , 0.96, 0.57, 0.8 ,\n",
              "       0.59, 0.75, 0.68, 0.13, 0.  , 0.15, 0.26, 0.  , 0.49, 0.05, 1.  ,\n",
              "       0.92, 0.14, 0.97, 0.09, 0.63, 0.78, 0.  , 0.84, 0.24, 0.19, 0.96,\n",
              "       0.71, 0.88, 0.87, 0.9 , 0.24, 0.15, 0.39, 0.  , 0.41, 0.65, 0.01,\n",
              "       0.73, 0.05, 0.  , 0.01, 0.01, 0.9 , 0.01, 0.25, 1.  , 0.05, 0.92,\n",
              "       0.99, 0.56, 0.97, 0.04, 0.15, 0.97, 0.92, 0.04, 0.74, 0.  , 0.88,\n",
              "       0.55, 0.64, 0.1 , 0.26, 0.74, 0.98, 0.03, 0.98])"
            ]
          },
          "execution_count": 12,
          "metadata": {},
          "output_type": "execute_result"
        }
      ],
      "source": [
        "# Define the pipeline with preprocessing and model\n",
        "pipe = Pipeline(steps=[\n",
        "    ('preprocessor', preprocessor),\n",
        "    ('model', RandomForestRegressor())\n",
        "])\n",
        "\n",
        "# Fit the pipeline to the training data\n",
        "pipe.fit(X_train, y_train)\n",
        "\n",
        "pipe.predict(X_test) \n"
      ]
    },
    {
      "cell_type": "markdown",
      "metadata": {
        "id": "RNxrs1YT7bdg"
      },
      "source": [
        "## Task 4"
      ]
    },
    {
      "cell_type": "code",
      "execution_count": null,
      "metadata": {
        "id": "U70e0q7T7c5p"
      },
      "outputs": [],
      "source": []
    }
  ],
  "metadata": {
    "colab": {
      "provenance": []
    },
    "kernelspec": {
      "display_name": "Python 3",
      "language": "python",
      "name": "python3"
    },
    "language_info": {
      "codemirror_mode": {
        "name": "ipython",
        "version": 3
      },
      "file_extension": ".py",
      "mimetype": "text/x-python",
      "name": "python",
      "nbconvert_exporter": "python",
      "pygments_lexer": "ipython3",
      "version": "3.9.13"
    }
  },
  "nbformat": 4,
  "nbformat_minor": 0
}
