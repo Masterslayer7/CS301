{
  "metadata": {
    "kernelspec": {
      "language": "python",
      "display_name": "Python 3",
      "name": "python3"
    },
    "language_info": {
      "name": "python",
      "version": "3.10.13",
      "mimetype": "text/x-python",
      "codemirror_mode": {
        "name": "ipython",
        "version": 3
      },
      "pygments_lexer": "ipython3",
      "nbconvert_exporter": "python",
      "file_extension": ".py"
    },
    "colab": {
      "provenance": []
    }
  },
  "nbformat_minor": 0,
  "nbformat": 4,
  "cells": [
    {
      "cell_type": "markdown",
      "source": [
        "The objective of this assignment is to assess your understanding of the process of building, training, and evaluating various machine learning models using a medical dataset. This assignment aims to enhance your skills in data preprocessing, model training, performance evaluation, and result visualization, ultimately enabling you to determine which model performs best for predicting heart disease.\n",
        "\n",
        "<h2> Dataset: </h2>\n",
        "\n",
        "Use the `Heart Disease` dataset from this [link](https://drive.google.com/file/d/181O6AUx7naNTXQPYwLb7kC2wYwmHTWAK/view?usp=sharing). This dataset contains information on various medical attributes of patients and whether they have heart disease.\n",
        "\n",
        "### Tasks:\n",
        "1. **Data Preparation: (30 points)**\n",
        "   - Load the Heart Disease dataset.\n",
        "   - Perform any necessary data preprocessing, including handling missing values, encoding categorical variables, and normalizing/standardizing the data if needed.\n",
        "   - Write a short description of your preprocessing steps with justification for your actions. Explain how you handled missing values and why you chose to remove or impute certain values, rows, or columns. Additionally, describe the type of encoding you used for categorical variables and the rationale behind your choices.\n",
        "\n",
        "2. **Data Splitting:(10points)**\n",
        "   - Split the dataset into training and testing sets using `train_test_split` from the `sklearn.model_selection` module. Use an 80-20 split for training and testing, respectively.\n",
        "\n",
        "3. **Model Training:(30points)**\n",
        "   - Initialize and train the following models using the training data:\n",
        "     - Random Forest\n",
        "     - Gradient Boosting\n",
        "     - AdaBoost\n",
        "     - Logistic Regression\n",
        "\n",
        "4. **Model Evaluation:(30points)**\n",
        "   - Evaluate the models on the test data using accuracy score.\n",
        "   - Create a bar chart to visualize the accuracy of each model. The x-axis should have the model names, and the y-axis should represent the accuracy scores.\n",
        "\n",
        "**Complete all of the above tasks, and then submit the notebook on Canvas.**"
      ],
      "metadata": {
        "id": "K2gIS9b55n2p"
      }
    },
    {
      "cell_type": "markdown",
      "source": [
        "## Task 1"
      ],
      "metadata": {
        "id": "0EDhSHWx7Uxi"
      }
    },
    {
      "cell_type": "code",
      "source": [],
      "metadata": {
        "id": "vKb4Vr-F7Xap"
      },
      "execution_count": null,
      "outputs": []
    },
    {
      "cell_type": "markdown",
      "source": [
        "Write your description here:"
      ],
      "metadata": {
        "id": "VbPWL3_O_yqs"
      }
    },
    {
      "cell_type": "markdown",
      "source": [
        "## Task 2"
      ],
      "metadata": {
        "id": "GJBSnyTS7WYv"
      }
    },
    {
      "cell_type": "code",
      "source": [],
      "metadata": {
        "id": "H7NqNc6G7dqk"
      },
      "execution_count": null,
      "outputs": []
    },
    {
      "cell_type": "markdown",
      "source": [
        "## Task 3"
      ],
      "metadata": {
        "id": "kLOTtikm7aNC"
      }
    },
    {
      "cell_type": "code",
      "source": [],
      "metadata": {
        "id": "LODW3QUt7eO5"
      },
      "execution_count": null,
      "outputs": []
    },
    {
      "cell_type": "markdown",
      "source": [
        "## Task 4"
      ],
      "metadata": {
        "id": "RNxrs1YT7bdg"
      }
    },
    {
      "cell_type": "code",
      "source": [],
      "metadata": {
        "id": "U70e0q7T7c5p"
      },
      "execution_count": null,
      "outputs": []
    }
  ]
}